{
 "cells": [
  {
   "cell_type": "markdown",
   "metadata": {},
   "source": [
    "# Calculations for SpiralArmsPotential.py"
   ]
  },
  {
   "cell_type": "markdown",
   "metadata": {},
   "source": [
    "Jack Hong  \n",
    "May 19, 2017"
   ]
  },
  {
   "cell_type": "markdown",
   "metadata": {},
   "source": [
    "Based on the paper by Cox and Gomez (2002). https://arxiv.org/abs/astro-ph/0207635v1"
   ]
  },
  {
   "cell_type": "markdown",
   "metadata": {},
   "source": [
    "Some notes:\n",
    " * $A$ is the amplitude. $A=4 \\pi G \\rho_0$\n",
    " * $g$ is $\\gamma$ from the paper\n",
    " * $R$ here refers to $r$ from the paper\n",
    " * $r_{ref}$ is $r_0$ from the paper and $\\phi_{ref}$ is $\\phi_p(r_0)$"
   ]
  },
  {
   "cell_type": "code",
   "execution_count": 1,
   "metadata": {
    "collapsed": true,
    "scrolled": true
   },
   "outputs": [],
   "source": [
    "import sympy as sym"
   ]
  },
  {
   "cell_type": "code",
   "execution_count": 2,
   "metadata": {
    "collapsed": true
   },
   "outputs": [],
   "source": [
    "sym.init_printing(sym.latex)"
   ]
  },
  {
   "cell_type": "code",
   "execution_count": 3,
   "metadata": {
    "collapsed": true
   },
   "outputs": [],
   "source": [
    "R, phi, z, t, N, alpha, r_ref, phi_ref, R_s, H, A, omega, C_n, n = \\\n",
    "sym.symbols('R phi z t N alpha r_ref phi_ref R_s H A omega C_n n')"
   ]
  },
  {
   "cell_type": "code",
   "execution_count": 4,
   "metadata": {
    "collapsed": true
   },
   "outputs": [],
   "source": [
    "g, K_n, B_n, D_n = sym.symbols('g, K_n, B_n, D_n', cls=sym.Function)\n",
    "\n",
    "# For now, just note the arguments of the following functions. They will be specified later.\n",
    "g = g(phi, R, t)\n",
    "K_n = K_n(R)\n",
    "B_n = B_n(R)\n",
    "D_n = D_n(R)"
   ]
  },
  {
   "cell_type": "markdown",
   "metadata": {},
   "source": [
    "## The Potential"
   ]
  },
  {
   "cell_type": "code",
   "execution_count": 5,
   "metadata": {
    "collapsed": true,
    "scrolled": true
   },
   "outputs": [],
   "source": [
    "m = sym.var('m') # dummy variable for summation\n",
    "Phi = A*H*sym.exp(-(R-r_ref)/R_s)*sym.summation((C_n/(K_n*D_n))*(sym.cos(m*g))*(sym.sech(K_n*z/B_n))**B_n,\n",
    "                                                (m, 1, n))"
   ]
  },
  {
   "cell_type": "code",
   "execution_count": 6,
   "metadata": {
    "collapsed": false,
    "scrolled": true
   },
   "outputs": [
    {
     "data": {
      "image/png": "[encoded data removed]",
      "text/latex": [
       "$$A H e^{\\frac{1}{R_{s}} \\left(- R + r_{ref}\\right)} \\sum_{m=1}^{n} \\frac{C_{n} \\operatorname{sech}^{\\operatorname{B_{n}}{\\left (R \\right )}}{\\left (\\frac{z \\operatorname{K_{n}}{\\left (R \\right )}}{\\operatorname{B_{n}}{\\left (R \\right )}} \\right )}}{\\operatorname{D_{n}}{\\left (R \\right )} \\operatorname{K_{n}}{\\left (R \\right )}} \\cos{\\left (m g{\\left (\\phi,R,t \\right )} \\right )}$$"
      ],
      "text/plain": [
       "                  n                                             \n",
       "                _____                                           \n",
       "                ╲                                               \n",
       "     -R + r_ref  ╲                              B_n(R)⎛z⋅K_n(R)⎞\n",
       "     ──────────   ╲   C_n⋅cos(m⋅g(φ, R, t))⋅sech      ⎜────────⎟\n",
       "        R_s        ╲                                  ⎝ B_n(R) ⎠\n",
       "A⋅H⋅ℯ          ⋅   ╱  ──────────────────────────────────────────\n",
       "                  ╱                 D_n(R)⋅K_n(R)               \n",
       "                 ╱                                              \n",
       "                ╱                                               \n",
       "                ‾‾‾‾‾                                           \n",
       "                m = 1                                           "
      ]
     },
     "execution_count": 6,
     "metadata": {},
     "output_type": "execute_result"
    }
   ],
   "source": [
    "Phi"
   ]
  },
  {
   "cell_type": "markdown",
   "metadata": {},
   "source": [
    "## Rforce ($\\frac{d\\Phi}{dR}$)"
   ]
  },
  {
   "cell_type": "code",
   "execution_count": 7,
   "metadata": {
    "collapsed": true
   },
   "outputs": [],
   "source": [
    "dPhi_dR = sym.diff(Phi, R)\n",
    "d2Phi_dR2 = sym.diff(Phi, R, 2)"
   ]
  },
  {
   "cell_type": "code",
   "execution_count": 8,
   "metadata": {
    "collapsed": false,
    "scrolled": false
   },
   "outputs": [
    {
     "name": "stdout",
     "output_type": "stream",
     "text": [
      "A = Symbol('A')\n",
      "H = Symbol('H')\n",
      "R = Symbol('R')\n",
      "r_ref = Symbol('r_ref')\n",
      "R_s = Symbol('R_s')\n",
      "m = Symbol('m')\n",
      "n = Symbol('n')\n",
      "C_n = Symbol('C_n')\n",
      "phi = Symbol('phi')\n",
      "t = Symbol('t')\n",
      "z = Symbol('z')\n",
      "g = Function('g')\n",
      "B_n = Function('B_n')\n",
      "K_n = Function('K_n')\n",
      "D_n = Function('D_n')\n",
      "e = A*H*exp((-R + r_ref)/R_s)*Sum(-C_n*m*sin(m*g(phi, R, t))*sech(z*K_n(R)/B_n(R))**B_n(R)*Derivative(g(phi, R, t), R)/(D_n(R)*K_n(R)) + C_n*(-(z*Derivative(K_n(R), R)/B_n(R) - z*K_n(R)*Derivative(B_n(R), R)/B_n(R)**2)*B_n(R)*tanh(z*K_n(R)/B_n(R)) + log(sech(z*K_n(R)/B_n(R)))*Derivative(B_n(R), R))*cos(m*g(phi, R, t))*sech(z*K_n(R)/B_n(R))**B_n(R)/(D_n(R)*K_n(R)) - C_n*cos(m*g(phi, R, t))*sech(z*K_n(R)/B_n(R))**B_n(R)*Derivative(K_n(R), R)/(D_n(R)*K_n(R)**2) - C_n*cos(m*g(phi, R, t))*sech(z*K_n(R)/B_n(R))**B_n(R)*Derivative(D_n(R), R)/(D_n(R)**2*K_n(R)), (m, 1, n)) - A*H*exp((-R + r_ref)/R_s)*Sum(C_n*cos(m*g(phi, R, t))*sech(z*K_n(R)/B_n(R))**B_n(R)/(D_n(R)*K_n(R)), (m, 1, n))/R_s\n"
     ]
    }
   ],
   "source": [
    "print(sym.python(dPhi_dR))"
   ]
  },
  {
   "cell_type": "code",
   "execution_count": 9,
   "metadata": {
    "collapsed": false
   },
   "outputs": [
    {
     "data": {
      "image/png": "[encoded data removed]",
      "text/latex": [
       "$$A H e^{\\frac{1}{R_{s}} \\left(- R + r_{ref}\\right)} \\sum_{m=1}^{n} \\left(- \\frac{C_{n} m \\operatorname{sech}^{\\operatorname{B_{n}}{\\left (R \\right )}}{\\left (\\frac{z \\operatorname{K_{n}}{\\left (R \\right )}}{\\operatorname{B_{n}}{\\left (R \\right )}} \\right )}}{\\operatorname{D_{n}}{\\left (R \\right )} \\operatorname{K_{n}}{\\left (R \\right )}} \\sin{\\left (m g{\\left (\\phi,R,t \\right )} \\right )} \\frac{\\partial}{\\partial R} g{\\left (\\phi,R,t \\right )} + \\frac{C_{n} \\operatorname{sech}^{\\operatorname{B_{n}}{\\left (R \\right )}}{\\left (\\frac{z \\operatorname{K_{n}}{\\left (R \\right )}}{\\operatorname{B_{n}}{\\left (R \\right )}} \\right )}}{\\operatorname{D_{n}}{\\left (R \\right )} \\operatorname{K_{n}}{\\left (R \\right )}} \\left(- \\left(\\frac{z \\frac{d}{d R} \\operatorname{K_{n}}{\\left (R \\right )}}{\\operatorname{B_{n}}{\\left (R \\right )}} - \\frac{z \\frac{d}{d R} \\operatorname{B_{n}}{\\left (R \\right )}}{\\operatorname{B_{n}}^{2}{\\left (R \\right )}} \\operatorname{K_{n}}{\\left (R \\right )}\\right) \\operatorname{B_{n}}{\\left (R \\right )} \\tanh{\\left (\\frac{z \\operatorname{K_{n}}{\\left (R \\right )}}{\\operatorname{B_{n}}{\\left (R \\right )}} \\right )} + \\log{\\left (\\operatorname{sech}{\\left (\\frac{z \\operatorname{K_{n}}{\\left (R \\right )}}{\\operatorname{B_{n}}{\\left (R \\right )}} \\right )} \\right )} \\frac{d}{d R} \\operatorname{B_{n}}{\\left (R \\right )}\\right) \\cos{\\left (m g{\\left (\\phi,R,t \\right )} \\right )} - \\frac{C_{n} \\operatorname{sech}^{\\operatorname{B_{n}}{\\left (R \\right )}}{\\left (\\frac{z \\operatorname{K_{n}}{\\left (R \\right )}}{\\operatorname{B_{n}}{\\left (R \\right )}} \\right )}}{\\operatorname{D_{n}}{\\left (R \\right )} \\operatorname{K_{n}}^{2}{\\left (R \\right )}} \\cos{\\left (m g{\\left (\\phi,R,t \\right )} \\right )} \\frac{d}{d R} \\operatorname{K_{n}}{\\left (R \\right )} - \\frac{C_{n} \\operatorname{sech}^{\\operatorname{B_{n}}{\\left (R \\right )}}{\\left (\\frac{z \\operatorname{K_{n}}{\\left (R \\right )}}{\\operatorname{B_{n}}{\\left (R \\right )}} \\right )}}{\\operatorname{D_{n}}^{2}{\\left (R \\right )} \\operatorname{K_{n}}{\\left (R \\right )}} \\cos{\\left (m g{\\left (\\phi,R,t \\right )} \\right )} \\frac{d}{d R} \\operatorname{D_{n}}{\\left (R \\right )}\\right) - \\frac{A H}{R_{s}} e^{\\frac{1}{R_{s}} \\left(- R + r_{ref}\\right)} \\sum_{m=1}^{n} \\frac{C_{n} \\operatorname{sech}^{\\operatorname{B_{n}}{\\left (R \\right )}}{\\left (\\frac{z \\operatorname{K_{n}}{\\left (R \\right )}}{\\operatorname{B_{n}}{\\left (R \\right )}} \\right )}}{\\operatorname{D_{n}}{\\left (R \\right )} \\operatorname{K_{n}}{\\left (R \\right )}} \\cos{\\left (m g{\\left (\\phi,R,t \\right )} \\right )}$$"
      ],
      "text/plain": [
       "                                                                              \n",
       "                                                                              \n",
       "                                                                              \n",
       "                                                                              \n",
       "                   n                                                          \n",
       "                _______                                                       \n",
       "                ╲                                                             \n",
       "                 ╲      ⎛                                                     \n",
       "                  ╲     ⎜                                                     \n",
       "     -R + r_ref    ╲    ⎜                                                     \n",
       "     ──────────     ╲   ⎜                              B_n(R)⎛z⋅K_n(R)⎞ ∂     \n",
       "        R_s          ╲  ⎜  C_n⋅m⋅sin(m⋅g(φ, R, t))⋅sech      ⎜────────⎟⋅──(g(φ\n",
       "A⋅H⋅ℯ          ⋅     ╱  ⎜                                    ⎝ B_n(R) ⎠ ∂R    \n",
       "                    ╱   ⎜- ───────────────────────────────────────────────────\n",
       "                   ╱    ⎜                         D_n(R)⋅K_n(R)               \n",
       "                  ╱     ⎝                                                     \n",
       "                 ╱                                                            \n",
       "                ╱                                                             \n",
       "                ‾‾‾‾‾‾‾                                                       \n",
       "                 m = 1                                                        \n",
       "\n",
       "                                                                              \n",
       "                                                                              \n",
       "                                                                              \n",
       "                                                                              \n",
       "                                                                              \n",
       "                                                                              \n",
       "                                                                              \n",
       "               ⎛  ⎛  d                     d         ⎞                        \n",
       "               ⎜  ⎜z⋅──(K_n(R))   z⋅K_n(R)⋅──(B_n(R))⎟                        \n",
       "               ⎜  ⎜  dR                    dR        ⎟            ⎛z⋅K_n(R)⎞  \n",
       "           C_n⋅⎜- ⎜──────────── - ───────────────────⎟⋅B_n(R)⋅tanh⎜────────⎟ +\n",
       ", R, t))       ⎜  ⎜   B_n(R)               2         ⎟            ⎝ B_n(R) ⎠  \n",
       "               ⎝  ⎝                     B_n (R)      ⎠                        \n",
       "──────── + ───────────────────────────────────────────────────────────────────\n",
       "                                                                         D_n(R\n",
       "                                                                              \n",
       "                                                                              \n",
       "                                                                              \n",
       "                                                                              \n",
       "                                                                              \n",
       "\n",
       "                                                                              \n",
       "                                                                              \n",
       "                                                                              \n",
       "                                                                              \n",
       "                                                                              \n",
       "                                                                              \n",
       "                                                                              \n",
       "                               ⎞                                              \n",
       "                               ⎟                                              \n",
       "    ⎛    ⎛z⋅K_n(R)⎞⎞ d         ⎟                       B_n(R)⎛z⋅K_n(R)⎞       \n",
       " log⎜sech⎜────────⎟⎟⋅──(B_n(R))⎟⋅cos(m⋅g(φ, R, t))⋅sech      ⎜────────⎟       \n",
       "    ⎝    ⎝ B_n(R) ⎠⎠ dR        ⎟                             ⎝ B_n(R) ⎠   C_n⋅\n",
       "                               ⎠                                              \n",
       "─────────────────────────────────────────────────────────────────────── - ────\n",
       ")⋅K_n(R)                                                                      \n",
       "                                                                              \n",
       "                                                                              \n",
       "                                                                              \n",
       "                                                                              \n",
       "                                                                              \n",
       "\n",
       "                                                                              \n",
       "                                                                              \n",
       "                                                                              \n",
       "                                                                              \n",
       "                                                                              \n",
       "                                                                              \n",
       "                                                                              \n",
       "                                                                              \n",
       "                                                                              \n",
       "                                                                              \n",
       "                      B_n(R)⎛z⋅K_n(R)⎞ d                                      \n",
       "cos(m⋅g(φ, R, t))⋅sech      ⎜────────⎟⋅──(K_n(R))   C_n⋅cos(m⋅g(φ, R, t))⋅sech\n",
       "                            ⎝ B_n(R) ⎠ dR                                     \n",
       "───────────────────────────────────────────────── - ──────────────────────────\n",
       "                          2                                                2  \n",
       "                D_n(R)⋅K_n (R)                                          D_n (R\n",
       "                                                                              \n",
       "                                                                              \n",
       "                                                                              \n",
       "                                                                              \n",
       "\n",
       "                                                 n                            \n",
       "                                               _____                          \n",
       "                                               ╲                              \n",
       "                                    -R + r_ref  ╲                             \n",
       "                                    ──────────   ╲   C_n⋅cos(m⋅g(φ, R, t))⋅sec\n",
       "                                       R_s        ╲                           \n",
       "                               A⋅H⋅ℯ          ⋅   ╱  ─────────────────────────\n",
       "                           ⎞                     ╱                 D_n(R)⋅K_n(\n",
       "                           ⎟                    ╱                             \n",
       "                           ⎟                   ╱                              \n",
       "B_n(R)⎛z⋅K_n(R)⎞ d         ⎟                   ‾‾‾‾‾                          \n",
       "      ⎜────────⎟⋅──(D_n(R))⎟                   m = 1                          \n",
       "      ⎝ B_n(R) ⎠ dR        ⎟ - ───────────────────────────────────────────────\n",
       "───────────────────────────⎟                                 R_s              \n",
       "                           ⎟                                                  \n",
       ")⋅K_n(R)                   ⎠                                                  \n",
       "                                                                              \n",
       "                                                                              \n",
       "                                                                              \n",
       "                                                                              \n",
       "\n",
       "                 \n",
       "                 \n",
       "                 \n",
       " B_n(R)⎛z⋅K_n(R)⎞\n",
       "h      ⎜────────⎟\n",
       "       ⎝ B_n(R) ⎠\n",
       "─────────────────\n",
       "R)               \n",
       "                 \n",
       "                 \n",
       "                 \n",
       "                 \n",
       "─────────────────\n",
       "                 \n",
       "                 \n",
       "                 \n",
       "                 \n",
       "                 \n",
       "                 \n",
       "                 "
      ]
     },
     "execution_count": 9,
     "metadata": {},
     "output_type": "execute_result"
    }
   ],
   "source": [
    "dPhi_dR"
   ]
  },
  {
   "cell_type": "code",
   "execution_count": null,
   "metadata": {
    "collapsed": false
   },
   "outputs": [],
   "source": []
  },
  {
   "cell_type": "code",
   "execution_count": 10,
   "metadata": {
    "collapsed": false
   },
   "outputs": [],
   "source": [
    "dPhi_dz = sym.diff(Phi, z)"
   ]
  },
  {
   "cell_type": "code",
   "execution_count": 11,
   "metadata": {
    "collapsed": false
   },
   "outputs": [
    {
     "data": {
      "image/png": "[encoded data removed]",
      "text/latex": [
       "$$A H e^{\\frac{1}{R_{s}} \\left(- R + r_{ref}\\right)} \\sum_{m=1}^{n} - \\frac{C_{n}}{\\operatorname{D_{n}}{\\left (R \\right )}} \\cos{\\left (m g{\\left (\\phi,R,t \\right )} \\right )} \\tanh{\\left (\\frac{z \\operatorname{K_{n}}{\\left (R \\right )}}{\\operatorname{B_{n}}{\\left (R \\right )}} \\right )} \\operatorname{sech}^{\\operatorname{B_{n}}{\\left (R \\right )}}{\\left (\\frac{z \\operatorname{K_{n}}{\\left (R \\right )}}{\\operatorname{B_{n}}{\\left (R \\right )}} \\right )}$$"
      ],
      "text/plain": [
       "                  n                                                           \n",
       "                _____                                                         \n",
       "                ╲                                                             \n",
       "     -R + r_ref  ╲                               ⎛z⋅K_n(R)⎞     B_n(R)⎛z⋅K_n(R\n",
       "     ──────────   ╲   -C_n⋅cos(m⋅g(φ, R, t))⋅tanh⎜────────⎟⋅sech      ⎜───────\n",
       "        R_s        ╲                             ⎝ B_n(R) ⎠           ⎝ B_n(R)\n",
       "A⋅H⋅ℯ          ⋅   ╱  ────────────────────────────────────────────────────────\n",
       "                  ╱                              D_n(R)                       \n",
       "                 ╱                                                            \n",
       "                ╱                                                             \n",
       "                ‾‾‾‾‾                                                         \n",
       "                m = 1                                                         \n",
       "\n",
       "   \n",
       "   \n",
       "   \n",
       ")⎞ \n",
       "─⎟ \n",
       " ⎠ \n",
       "───\n",
       "   \n",
       "   \n",
       "   \n",
       "   \n",
       "   "
      ]
     },
     "execution_count": 11,
     "metadata": {},
     "output_type": "execute_result"
    }
   ],
   "source": [
    "dPhi_dz"
   ]
  }
 ],
 "metadata": {
  "anaconda-cloud": {},
  "kernelspec": {
   "display_name": "Python 2",
   "language": "python",
   "name": "python2"
  },
  "language_info": {
   "codemirror_mode": {
    "name": "ipython",
    "version": 2
   },
   "file_extension": ".py",
   "mimetype": "text/x-python",
   "name": "python",
   "nbconvert_exporter": "python",
   "pygments_lexer": "ipython2",
   "version": "2.7.13"
  },
  "latex_envs": {
   "LaTeX_envs_menu_present": true,
   "bibliofile": "biblio.bib",
   "cite_by": "apalike",
   "current_citInitial": 1,
   "eqLabelWithNumbers": true,
   "eqNumInitial": 1,
   "labels_anchors": false,
   "latex_user_defs": false,
   "report_style_numbering": false,
   "user_envs_cfg": false
  }
 },
 "nbformat": 4,
 "nbformat_minor": 0
}
