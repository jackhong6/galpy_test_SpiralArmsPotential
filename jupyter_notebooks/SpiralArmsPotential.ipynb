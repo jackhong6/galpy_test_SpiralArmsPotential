{
 "cells": [
  {
   "cell_type": "markdown",
   "metadata": {},
   "source": [
    "# Calculations for SpiralArmsPotential.py"
   ]
  },
  {
   "cell_type": "markdown",
   "metadata": {},
   "source": [
    "Jack Hong  \n",
    "May 19, 2017"
   ]
  },
  {
   "cell_type": "markdown",
   "metadata": {},
   "source": [
    "Based on the paper by Cox and Gomez (2002). https://arxiv.org/abs/astro-ph/0207635v1"
   ]
  },
  {
   "cell_type": "markdown",
   "metadata": {},
   "source": [
    "Some notes:\n",
    " * $amp =4 \\pi G \\rho_0$ is handled by the super class Potential.\n",
    " * $g$ is $\\gamma$ from the paper\n",
    " * $R$ here refers to $r$ from the paper\n",
    " * $r_{ref}$ is $r_0$ from the paper and $\\phi_{ref}$ is $\\phi_p(r_0)$"
   ]
  },
  {
   "cell_type": "code",
   "execution_count": 1,
   "metadata": {
    "collapsed": true,
    "scrolled": true
   },
   "outputs": [],
   "source": [
    "import sympy as sym"
   ]
  },
  {
   "cell_type": "code",
   "execution_count": 2,
   "metadata": {
    "collapsed": true
   },
   "outputs": [],
   "source": [
    "sym.init_printing(sym.latex)"
   ]
  },
  {
   "cell_type": "code",
   "execution_count": 3,
   "metadata": {
    "collapsed": true
   },
   "outputs": [],
   "source": [
    "R, phi, z, t, N, alpha, r_ref, phi_ref, R_s, H, omega, C_n, n = \\\n",
    "sym.symbols('R phi z t N alpha r_ref phi_ref R_s H omega C_n n')"
   ]
  },
  {
   "cell_type": "code",
   "execution_count": 4,
   "metadata": {
    "collapsed": true
   },
   "outputs": [],
   "source": [
    "g, K_n, B_n, D_n = sym.symbols('g, K_n, B_n, D_n', cls=sym.Function)\n",
    "\n",
    "# For now, just note the arguments of the following functions. They will be specified later.\n",
    "g = g(phi, R, t)\n",
    "K_n = K_n(R)\n",
    "B_n = B_n(R)\n",
    "D_n = D_n(R)"
   ]
  },
  {
   "cell_type": "markdown",
   "metadata": {},
   "source": [
    "## The Potential"
   ]
  },
  {
   "cell_type": "code",
   "execution_count": 40,
   "metadata": {
    "scrolled": true
   },
   "outputs": [
    {
     "data": {
      "image/png": "[encoded data removed]",
      "text/latex": [
       "$$- H e^{\\frac{1}{R_{s}} \\left(- R + r_{ref}\\right)} \\sum_{n=1}^{m} \\frac{C_{n} \\operatorname{sech}^{\\operatorname{B_{n}}{\\left (R \\right )}}{\\left (\\frac{z \\operatorname{K_{n}}{\\left (R \\right )}}{\\operatorname{B_{n}}{\\left (R \\right )}} \\right )}}{\\operatorname{D_{n}}{\\left (R \\right )} \\operatorname{K_{n}}{\\left (R \\right )}} \\cos{\\left (N n \\left(\\omega t + \\phi - \\phi_{ref} - \\frac{\\log{\\left (\\frac{R}{r_{ref}} \\right )}}{\\tan{\\left (\\alpha \\right )}}\\right) \\right )}$$"
      ],
      "text/plain": [
       "                 m                                                            \n",
       "               ______                                                         \n",
       "               ╲                                                              \n",
       "                ╲            ⎛    ⎛                     ⎛  R  ⎞⎞⎞             \n",
       "    -R + r_ref   ╲           ⎜    ⎜                  log⎜─────⎟⎟⎟             \n",
       "    ──────────    ╲          ⎜    ⎜                     ⎝r_ref⎠⎟⎟     B_n(R)⎛z\n",
       "       R_s         ╲  C_n⋅cos⎜N⋅n⋅⎜ω⋅t + φ - φ_ref - ──────────⎟⎟⋅sech      ⎜─\n",
       "-H⋅ℯ          ⋅    ╱         ⎝    ⎝                    tan(α)  ⎠⎠           ⎝ \n",
       "                  ╱   ────────────────────────────────────────────────────────\n",
       "                 ╱                             D_n(R)⋅K_n(R)                  \n",
       "                ╱                                                             \n",
       "               ╱                                                              \n",
       "               ‾‾‾‾‾‾                                                         \n",
       "               n = 1                                                          \n",
       "\n",
       "        \n",
       "        \n",
       "        \n",
       "        \n",
       "        \n",
       "⋅K_n(R)⎞\n",
       "───────⎟\n",
       "B_n(R) ⎠\n",
       "────────\n",
       "        \n",
       "        \n",
       "        \n",
       "        \n",
       "        "
      ]
     },
     "execution_count": 40,
     "metadata": {},
     "output_type": "execute_result"
    }
   ],
   "source": [
    "m = sym.var('m') # dummy variable for summation\n",
    "Phi = -H*sym.exp(-(R-r_ref)/R_s)*sym.summation((C_n/(K_n*D_n))*(sym.cos(n*g))*(sym.sech(K_n*z/B_n))**B_n,\n",
    "                                                (n, 1, m))\n",
    "Phi"
   ]
  },
  {
   "cell_type": "markdown",
   "metadata": {},
   "source": [
    "## Rforce ($-\\frac{d\\Phi}{dR}$)"
   ]
  },
  {
   "cell_type": "code",
   "execution_count": 23,
   "metadata": {},
   "outputs": [
    {
     "data": {
      "image/png": "[encoded data removed]",
      "text/latex": [
       "$$H e^{\\frac{1}{R_{s}} \\left(- R + r_{ref}\\right)} \\sum_{n=1}^{m} \\left(- \\frac{C_{n} n \\operatorname{sech}^{\\operatorname{B_{n}}{\\left (R \\right )}}{\\left (\\frac{z \\operatorname{K_{n}}{\\left (R \\right )}}{\\operatorname{B_{n}}{\\left (R \\right )}} \\right )}}{\\operatorname{D_{n}}{\\left (R \\right )} \\operatorname{K_{n}}{\\left (R \\right )}} \\sin{\\left (n g{\\left (\\phi,R,t \\right )} \\right )} \\frac{\\partial}{\\partial R} g{\\left (\\phi,R,t \\right )} + \\frac{C_{n} \\operatorname{sech}^{\\operatorname{B_{n}}{\\left (R \\right )}}{\\left (\\frac{z \\operatorname{K_{n}}{\\left (R \\right )}}{\\operatorname{B_{n}}{\\left (R \\right )}} \\right )}}{\\operatorname{D_{n}}{\\left (R \\right )} \\operatorname{K_{n}}{\\left (R \\right )}} \\left(- \\left(\\frac{z \\frac{d}{d R} \\operatorname{K_{n}}{\\left (R \\right )}}{\\operatorname{B_{n}}{\\left (R \\right )}} - \\frac{z \\frac{d}{d R} \\operatorname{B_{n}}{\\left (R \\right )}}{\\operatorname{B_{n}}^{2}{\\left (R \\right )}} \\operatorname{K_{n}}{\\left (R \\right )}\\right) \\operatorname{B_{n}}{\\left (R \\right )} \\tanh{\\left (\\frac{z \\operatorname{K_{n}}{\\left (R \\right )}}{\\operatorname{B_{n}}{\\left (R \\right )}} \\right )} + \\log{\\left (\\operatorname{sech}{\\left (\\frac{z \\operatorname{K_{n}}{\\left (R \\right )}}{\\operatorname{B_{n}}{\\left (R \\right )}} \\right )} \\right )} \\frac{d}{d R} \\operatorname{B_{n}}{\\left (R \\right )}\\right) \\cos{\\left (n g{\\left (\\phi,R,t \\right )} \\right )} - \\frac{C_{n} \\operatorname{sech}^{\\operatorname{B_{n}}{\\left (R \\right )}}{\\left (\\frac{z \\operatorname{K_{n}}{\\left (R \\right )}}{\\operatorname{B_{n}}{\\left (R \\right )}} \\right )}}{\\operatorname{D_{n}}{\\left (R \\right )} \\operatorname{K_{n}}^{2}{\\left (R \\right )}} \\cos{\\left (n g{\\left (\\phi,R,t \\right )} \\right )} \\frac{d}{d R} \\operatorname{K_{n}}{\\left (R \\right )} - \\frac{C_{n} \\operatorname{sech}^{\\operatorname{B_{n}}{\\left (R \\right )}}{\\left (\\frac{z \\operatorname{K_{n}}{\\left (R \\right )}}{\\operatorname{B_{n}}{\\left (R \\right )}} \\right )}}{\\operatorname{D_{n}}^{2}{\\left (R \\right )} \\operatorname{K_{n}}{\\left (R \\right )}} \\cos{\\left (n g{\\left (\\phi,R,t \\right )} \\right )} \\frac{d}{d R} \\operatorname{D_{n}}{\\left (R \\right )}\\right) - \\frac{H}{R_{s}} e^{\\frac{1}{R_{s}} \\left(- R + r_{ref}\\right)} \\sum_{n=1}^{m} \\frac{C_{n} \\operatorname{sech}^{\\operatorname{B_{n}}{\\left (R \\right )}}{\\left (\\frac{z \\operatorname{K_{n}}{\\left (R \\right )}}{\\operatorname{B_{n}}{\\left (R \\right )}} \\right )}}{\\operatorname{D_{n}}{\\left (R \\right )} \\operatorname{K_{n}}{\\left (R \\right )}} \\cos{\\left (n g{\\left (\\phi,R,t \\right )} \\right )}$$"
      ],
      "text/plain": [
       "                                                                              \n",
       "                                                                              \n",
       "                                                                              \n",
       "                                                                              \n",
       "                 m                                                            \n",
       "              _______                                                         \n",
       "              ╲                                                               \n",
       "               ╲      ⎛                                                       \n",
       "                ╲     ⎜                                                       \n",
       "   -R + r_ref    ╲    ⎜                                                       \n",
       "   ──────────     ╲   ⎜                              B_n(R)⎛z⋅K_n(R)⎞ ∂       \n",
       "      R_s          ╲  ⎜  C_n⋅n⋅sin(n⋅g(φ, R, t))⋅sech      ⎜────────⎟⋅──(g(φ, \n",
       "H⋅ℯ          ⋅     ╱  ⎜                                    ⎝ B_n(R) ⎠ ∂R      \n",
       "                  ╱   ⎜- ─────────────────────────────────────────────────────\n",
       "                 ╱    ⎜                         D_n(R)⋅K_n(R)                 \n",
       "                ╱     ⎝                                                       \n",
       "               ╱                                                              \n",
       "              ╱                                                               \n",
       "              ‾‾‾‾‾‾‾                                                         \n",
       "               n = 1                                                          \n",
       "\n",
       "                                                                              \n",
       "                                                                              \n",
       "                                                                              \n",
       "                                                                              \n",
       "                                                                              \n",
       "                                                                              \n",
       "                                                                              \n",
       "             ⎛  ⎛  d                     d         ⎞                          \n",
       "             ⎜  ⎜z⋅──(K_n(R))   z⋅K_n(R)⋅──(B_n(R))⎟                          \n",
       "             ⎜  ⎜  dR                    dR        ⎟            ⎛z⋅K_n(R)⎞    \n",
       "         C_n⋅⎜- ⎜──────────── - ───────────────────⎟⋅B_n(R)⋅tanh⎜────────⎟ + l\n",
       "R, t))       ⎜  ⎜   B_n(R)               2         ⎟            ⎝ B_n(R) ⎠    \n",
       "             ⎝  ⎝                     B_n (R)      ⎠                          \n",
       "────── + ─────────────────────────────────────────────────────────────────────\n",
       "                                                                       D_n(R)⋅\n",
       "                                                                              \n",
       "                                                                              \n",
       "                                                                              \n",
       "                                                                              \n",
       "                                                                              \n",
       "\n",
       "                                                                              \n",
       "                                                                              \n",
       "                                                                              \n",
       "                                                                              \n",
       "                                                                              \n",
       "                                                                              \n",
       "                                                                              \n",
       "                             ⎞                                                \n",
       "                             ⎟                                                \n",
       "  ⎛    ⎛z⋅K_n(R)⎞⎞ d         ⎟                       B_n(R)⎛z⋅K_n(R)⎞         \n",
       "og⎜sech⎜────────⎟⎟⋅──(B_n(R))⎟⋅cos(n⋅g(φ, R, t))⋅sech      ⎜────────⎟         \n",
       "  ⎝    ⎝ B_n(R) ⎠⎠ dR        ⎟                             ⎝ B_n(R) ⎠   C_n⋅co\n",
       "                             ⎠                                                \n",
       "───────────────────────────────────────────────────────────────────── - ──────\n",
       "K_n(R)                                                                        \n",
       "                                                                              \n",
       "                                                                              \n",
       "                                                                              \n",
       "                                                                              \n",
       "                                                                              \n",
       "\n",
       "                                                                              \n",
       "                                                                              \n",
       "                                                                              \n",
       "                                                                              \n",
       "                                                                              \n",
       "                                                                              \n",
       "                                                                              \n",
       "                                                                              \n",
       "                                                                              \n",
       "                                                                              \n",
       "                    B_n(R)⎛z⋅K_n(R)⎞ d                                      B_\n",
       "s(n⋅g(φ, R, t))⋅sech      ⎜────────⎟⋅──(K_n(R))   C_n⋅cos(n⋅g(φ, R, t))⋅sech  \n",
       "                          ⎝ B_n(R) ⎠ dR                                       \n",
       "─────────────────────────────────────────────── - ────────────────────────────\n",
       "                        2                                                2    \n",
       "              D_n(R)⋅K_n (R)                                          D_n (R)⋅\n",
       "                                                                              \n",
       "                                                                              \n",
       "                                                                              \n",
       "                                                                              \n",
       "\n",
       "                                             m                                \n",
       "                                           _____                              \n",
       "                                           ╲                                  \n",
       "                                -R + r_ref  ╲                              B_n\n",
       "                                ──────────   ╲   C_n⋅cos(n⋅g(φ, R, t))⋅sech   \n",
       "                                   R_s        ╲                               \n",
       "                             H⋅ℯ          ⋅   ╱  ─────────────────────────────\n",
       "                         ⎞                   ╱                 D_n(R)⋅K_n(R)  \n",
       "                         ⎟                  ╱                                 \n",
       "                         ⎟                 ╱                                  \n",
       "n(R)⎛z⋅K_n(R)⎞ d         ⎟                 ‾‾‾‾‾                              \n",
       "    ⎜────────⎟⋅──(D_n(R))⎟                 n = 1                              \n",
       "    ⎝ B_n(R) ⎠ dR        ⎟ - ─────────────────────────────────────────────────\n",
       "─────────────────────────⎟                                R_s                 \n",
       "                         ⎟                                                    \n",
       "K_n(R)                   ⎠                                                    \n",
       "                                                                              \n",
       "                                                                              \n",
       "                                                                              \n",
       "                                                                              \n",
       "\n",
       "             \n",
       "             \n",
       "             \n",
       "(R)⎛z⋅K_n(R)⎞\n",
       "   ⎜────────⎟\n",
       "   ⎝ B_n(R) ⎠\n",
       "─────────────\n",
       "             \n",
       "             \n",
       "             \n",
       "             \n",
       "             \n",
       "─────────────\n",
       "             \n",
       "             \n",
       "             \n",
       "             \n",
       "             \n",
       "             \n",
       "             "
      ]
     },
     "execution_count": 23,
     "metadata": {},
     "output_type": "execute_result"
    }
   ],
   "source": [
    "dPhi_dR = sym.diff(Phi, R)\n",
    "-dPhi_dR"
   ]
  },
  {
   "cell_type": "markdown",
   "metadata": {},
   "source": [
    "## zforce ($-\\frac{d\\Phi}{dz}$)"
   ]
  },
  {
   "cell_type": "code",
   "execution_count": 7,
   "metadata": {},
   "outputs": [
    {
     "data": {
      "image/png": "[encoded data removed]",
      "text/latex": [
       "$$H e^{\\frac{1}{R_{s}} \\left(- R + r_{ref}\\right)} \\sum_{n=1}^{m} - \\frac{C_{n}}{\\operatorname{D_{n}}{\\left (R \\right )}} \\cos{\\left (n g{\\left (\\phi,R,t \\right )} \\right )} \\tanh{\\left (\\frac{z \\operatorname{K_{n}}{\\left (R \\right )}}{\\operatorname{B_{n}}{\\left (R \\right )}} \\right )} \\operatorname{sech}^{\\operatorname{B_{n}}{\\left (R \\right )}}{\\left (\\frac{z \\operatorname{K_{n}}{\\left (R \\right )}}{\\operatorname{B_{n}}{\\left (R \\right )}} \\right )}$$"
      ],
      "text/plain": [
       "                m                                                             \n",
       "              _____                                                           \n",
       "              ╲                                                               \n",
       "   -R + r_ref  ╲                               ⎛z⋅K_n(R)⎞     B_n(R)⎛z⋅K_n(R)⎞\n",
       "   ──────────   ╲   -C_n⋅cos(n⋅g(φ, R, t))⋅tanh⎜────────⎟⋅sech      ⎜────────⎟\n",
       "      R_s        ╲                             ⎝ B_n(R) ⎠           ⎝ B_n(R) ⎠\n",
       "H⋅ℯ          ⋅   ╱  ──────────────────────────────────────────────────────────\n",
       "                ╱                              D_n(R)                         \n",
       "               ╱                                                              \n",
       "              ╱                                                               \n",
       "              ‾‾‾‾‾                                                           \n",
       "              n = 1                                                           \n",
       "\n",
       " \n",
       " \n",
       " \n",
       " \n",
       " \n",
       " \n",
       "─\n",
       " \n",
       " \n",
       " \n",
       " \n",
       " "
      ]
     },
     "execution_count": 7,
     "metadata": {},
     "output_type": "execute_result"
    }
   ],
   "source": [
    "dPhi_dz = sym.diff(Phi, z)\n",
    "-dPhi_dz"
   ]
  },
  {
   "cell_type": "markdown",
   "metadata": {},
   "source": [
    "## phiforce ($-\\frac{d\\Phi}{d\\phi}$)"
   ]
  },
  {
   "cell_type": "code",
   "execution_count": 8,
   "metadata": {
    "scrolled": true
   },
   "outputs": [
    {
     "data": {
      "image/png": "[encoded data removed]",
      "text/latex": [
       "$$H e^{\\frac{1}{R_{s}} \\left(- R + r_{ref}\\right)} \\sum_{n=1}^{m} - \\frac{C_{n} n \\operatorname{sech}^{\\operatorname{B_{n}}{\\left (R \\right )}}{\\left (\\frac{z \\operatorname{K_{n}}{\\left (R \\right )}}{\\operatorname{B_{n}}{\\left (R \\right )}} \\right )}}{\\operatorname{D_{n}}{\\left (R \\right )} \\operatorname{K_{n}}{\\left (R \\right )}} \\sin{\\left (n g{\\left (\\phi,R,t \\right )} \\right )} \\frac{\\partial}{\\partial \\phi} g{\\left (\\phi,R,t \\right )}$$"
      ],
      "text/plain": [
       "                m                                                             \n",
       "              _____                                                           \n",
       "              ╲                                                               \n",
       "   -R + r_ref  ╲                                 B_n(R)⎛z⋅K_n(R)⎞ ∂           \n",
       "   ──────────   ╲   -C_n⋅n⋅sin(n⋅g(φ, R, t))⋅sech      ⎜────────⎟⋅──(g(φ, R, t\n",
       "      R_s        ╲                                     ⎝ B_n(R) ⎠ ∂φ          \n",
       "H⋅ℯ          ⋅   ╱  ──────────────────────────────────────────────────────────\n",
       "                ╱                           D_n(R)⋅K_n(R)                     \n",
       "               ╱                                                              \n",
       "              ╱                                                               \n",
       "              ‾‾‾‾‾                                                           \n",
       "              n = 1                                                           \n",
       "\n",
       "   \n",
       "   \n",
       "   \n",
       "   \n",
       ")) \n",
       "   \n",
       "───\n",
       "   \n",
       "   \n",
       "   \n",
       "   \n",
       "   "
      ]
     },
     "execution_count": 8,
     "metadata": {},
     "output_type": "execute_result"
    }
   ],
   "source": [
    "dPhi_dphi = sym.diff(Phi, phi)\n",
    "-dPhi_dphi"
   ]
  },
  {
   "cell_type": "markdown",
   "metadata": {},
   "source": [
    "## R2deriv ($\\frac{d^2 \\Phi}{dR^2}$)"
   ]
  },
  {
   "cell_type": "code",
   "execution_count": 32,
   "metadata": {},
   "outputs": [
    {
     "data": {
      "image/png": "[encoded data removed]",
      "text/latex": [
       "$$H \\left(- \\sum_{n=1}^{m} \\frac{C_{n} \\operatorname{sech}^{\\operatorname{B_{n}}{\\left (R \\right )}}{\\left (\\frac{z \\operatorname{K_{n}}{\\left (R \\right )}}{\\operatorname{B_{n}}{\\left (R \\right )}} \\right )}}{\\operatorname{D_{n}}{\\left (R \\right )} \\operatorname{K_{n}}{\\left (R \\right )}} \\left(- n^{2} \\cos{\\left (n g{\\left (\\phi,R,t \\right )} \\right )} \\frac{\\partial}{\\partial R} g{\\left (\\phi,R,t \\right )}^{2} + 2 n \\left(z \\left(\\frac{d}{d R} \\operatorname{K_{n}}{\\left (R \\right )} - \\frac{\\frac{d}{d R} \\operatorname{B_{n}}{\\left (R \\right )}}{\\operatorname{B_{n}}{\\left (R \\right )}} \\operatorname{K_{n}}{\\left (R \\right )}\\right) \\tanh{\\left (\\frac{z \\operatorname{K_{n}}{\\left (R \\right )}}{\\operatorname{B_{n}}{\\left (R \\right )}} \\right )} - \\log{\\left (\\operatorname{sech}{\\left (\\frac{z \\operatorname{K_{n}}{\\left (R \\right )}}{\\operatorname{B_{n}}{\\left (R \\right )}} \\right )} \\right )} \\frac{d}{d R} \\operatorname{B_{n}}{\\left (R \\right )}\\right) \\sin{\\left (n g{\\left (\\phi,R,t \\right )} \\right )} \\frac{\\partial}{\\partial R} g{\\left (\\phi,R,t \\right )} - n \\sin{\\left (n g{\\left (\\phi,R,t \\right )} \\right )} \\frac{\\partial^{2}}{\\partial R^{2}}  g{\\left (\\phi,R,t \\right )} + \\frac{2 n \\frac{d}{d R} \\operatorname{K_{n}}{\\left (R \\right )}}{\\operatorname{K_{n}}{\\left (R \\right )}} \\sin{\\left (n g{\\left (\\phi,R,t \\right )} \\right )} \\frac{\\partial}{\\partial R} g{\\left (\\phi,R,t \\right )} + \\frac{2 n \\frac{d}{d R} \\operatorname{D_{n}}{\\left (R \\right )}}{\\operatorname{D_{n}}{\\left (R \\right )}} \\sin{\\left (n g{\\left (\\phi,R,t \\right )} \\right )} \\frac{\\partial}{\\partial R} g{\\left (\\phi,R,t \\right )} + \\left(z \\left(\\frac{d}{d R} \\operatorname{K_{n}}{\\left (R \\right )} - \\frac{\\frac{d}{d R} \\operatorname{B_{n}}{\\left (R \\right )}}{\\operatorname{B_{n}}{\\left (R \\right )}} \\operatorname{K_{n}}{\\left (R \\right )}\\right) \\tanh{\\left (\\frac{z \\operatorname{K_{n}}{\\left (R \\right )}}{\\operatorname{B_{n}}{\\left (R \\right )}} \\right )} - \\log{\\left (\\operatorname{sech}{\\left (\\frac{z \\operatorname{K_{n}}{\\left (R \\right )}}{\\operatorname{B_{n}}{\\left (R \\right )}} \\right )} \\right )} \\frac{d}{d R} \\operatorname{B_{n}}{\\left (R \\right )}\\right)^{2} \\cos{\\left (n g{\\left (\\phi,R,t \\right )} \\right )} + \\frac{2 \\frac{d}{d R} \\operatorname{K_{n}}{\\left (R \\right )}}{\\operatorname{K_{n}}{\\left (R \\right )}} \\left(z \\left(\\frac{d}{d R} \\operatorname{K_{n}}{\\left (R \\right )} - \\frac{\\frac{d}{d R} \\operatorname{B_{n}}{\\left (R \\right )}}{\\operatorname{B_{n}}{\\left (R \\right )}} \\operatorname{K_{n}}{\\left (R \\right )}\\right) \\tanh{\\left (\\frac{z \\operatorname{K_{n}}{\\left (R \\right )}}{\\operatorname{B_{n}}{\\left (R \\right )}} \\right )} - \\log{\\left (\\operatorname{sech}{\\left (\\frac{z \\operatorname{K_{n}}{\\left (R \\right )}}{\\operatorname{B_{n}}{\\left (R \\right )}} \\right )} \\right )} \\frac{d}{d R} \\operatorname{B_{n}}{\\left (R \\right )}\\right) \\cos{\\left (n g{\\left (\\phi,R,t \\right )} \\right )} + \\frac{2 \\frac{d}{d R} \\operatorname{D_{n}}{\\left (R \\right )}}{\\operatorname{D_{n}}{\\left (R \\right )}} \\left(z \\left(\\frac{d}{d R} \\operatorname{K_{n}}{\\left (R \\right )} - \\frac{\\frac{d}{d R} \\operatorname{B_{n}}{\\left (R \\right )}}{\\operatorname{B_{n}}{\\left (R \\right )}} \\operatorname{K_{n}}{\\left (R \\right )}\\right) \\tanh{\\left (\\frac{z \\operatorname{K_{n}}{\\left (R \\right )}}{\\operatorname{B_{n}}{\\left (R \\right )}} \\right )} - \\log{\\left (\\operatorname{sech}{\\left (\\frac{z \\operatorname{K_{n}}{\\left (R \\right )}}{\\operatorname{B_{n}}{\\left (R \\right )}} \\right )} \\right )} \\frac{d}{d R} \\operatorname{B_{n}}{\\left (R \\right )}\\right) \\cos{\\left (n g{\\left (\\phi,R,t \\right )} \\right )} - \\left(\\frac{z^{2}}{\\operatorname{B_{n}}{\\left (R \\right )}} \\left(- \\tanh^{2}{\\left (\\frac{z \\operatorname{K_{n}}{\\left (R \\right )}}{\\operatorname{B_{n}}{\\left (R \\right )}} \\right )} + 1\\right) \\left(\\frac{d}{d R} \\operatorname{K_{n}}{\\left (R \\right )} - \\frac{\\frac{d}{d R} \\operatorname{B_{n}}{\\left (R \\right )}}{\\operatorname{B_{n}}{\\left (R \\right )}} \\operatorname{K_{n}}{\\left (R \\right )}\\right)^{2} + \\frac{2 z \\frac{d}{d R} \\operatorname{B_{n}}{\\left (R \\right )}}{\\operatorname{B_{n}}{\\left (R \\right )}} \\left(\\frac{d}{d R} \\operatorname{K_{n}}{\\left (R \\right )} - \\frac{\\frac{d}{d R} \\operatorname{B_{n}}{\\left (R \\right )}}{\\operatorname{B_{n}}{\\left (R \\right )}} \\operatorname{K_{n}}{\\left (R \\right )}\\right) \\tanh{\\left (\\frac{z \\operatorname{K_{n}}{\\left (R \\right )}}{\\operatorname{B_{n}}{\\left (R \\right )}} \\right )} + z \\left(\\frac{d^{2}}{d R^{2}}  \\operatorname{K_{n}}{\\left (R \\right )} - \\frac{\\frac{d^{2}}{d R^{2}}  \\operatorname{B_{n}}{\\left (R \\right )}}{\\operatorname{B_{n}}{\\left (R \\right )}} \\operatorname{K_{n}}{\\left (R \\right )} - \\frac{2 \\frac{d}{d R} \\operatorname{B_{n}}{\\left (R \\right )}}{\\operatorname{B_{n}}{\\left (R \\right )}} \\frac{d}{d R} \\operatorname{K_{n}}{\\left (R \\right )} + \\frac{2 \\frac{d}{d R} \\operatorname{B_{n}}{\\left (R \\right )}^{2}}{\\operatorname{B_{n}}^{2}{\\left (R \\right )}} \\operatorname{K_{n}}{\\left (R \\right )}\\right) \\tanh{\\left (\\frac{z \\operatorname{K_{n}}{\\left (R \\right )}}{\\operatorname{B_{n}}{\\left (R \\right )}} \\right )} - \\log{\\left (\\operatorname{sech}{\\left (\\frac{z \\operatorname{K_{n}}{\\left (R \\right )}}{\\operatorname{B_{n}}{\\left (R \\right )}} \\right )} \\right )} \\frac{d^{2}}{d R^{2}}  \\operatorname{B_{n}}{\\left (R \\right )}\\right) \\cos{\\left (n g{\\left (\\phi,R,t \\right )} \\right )} - \\frac{\\frac{d^{2}}{d R^{2}}  \\operatorname{K_{n}}{\\left (R \\right )}}{\\operatorname{K_{n}}{\\left (R \\right )}} \\cos{\\left (n g{\\left (\\phi,R,t \\right )} \\right )} + \\frac{2 \\frac{d}{d R} \\operatorname{K_{n}}{\\left (R \\right )}^{2}}{\\operatorname{K_{n}}^{2}{\\left (R \\right )}} \\cos{\\left (n g{\\left (\\phi,R,t \\right )} \\right )} - \\frac{\\frac{d^{2}}{d R^{2}}  \\operatorname{D_{n}}{\\left (R \\right )}}{\\operatorname{D_{n}}{\\left (R \\right )}} \\cos{\\left (n g{\\left (\\phi,R,t \\right )} \\right )} + \\frac{2 \\frac{d}{d R} \\operatorname{D_{n}}{\\left (R \\right )} \\frac{d}{d R} \\operatorname{K_{n}}{\\left (R \\right )}}{\\operatorname{D_{n}}{\\left (R \\right )} \\operatorname{K_{n}}{\\left (R \\right )}} \\cos{\\left (n g{\\left (\\phi,R,t \\right )} \\right )} + \\frac{2 \\frac{d}{d R} \\operatorname{D_{n}}{\\left (R \\right )}^{2}}{\\operatorname{D_{n}}^{2}{\\left (R \\right )}} \\cos{\\left (n g{\\left (\\phi,R,t \\right )} \\right )}\\right) + \\frac{2}{R_{s}} \\sum_{n=1}^{m} - \\frac{C_{n} \\operatorname{sech}^{\\operatorname{B_{n}}{\\left (R \\right )}}{\\left (\\frac{z \\operatorname{K_{n}}{\\left (R \\right )}}{\\operatorname{B_{n}}{\\left (R \\right )}} \\right )}}{\\operatorname{D_{n}}{\\left (R \\right )} \\operatorname{K_{n}}{\\left (R \\right )}} \\left(n \\sin{\\left (n g{\\left (\\phi,R,t \\right )} \\right )} \\frac{\\partial}{\\partial R} g{\\left (\\phi,R,t \\right )} + \\left(z \\left(\\frac{d}{d R} \\operatorname{K_{n}}{\\left (R \\right )} - \\frac{\\frac{d}{d R} \\operatorname{B_{n}}{\\left (R \\right )}}{\\operatorname{B_{n}}{\\left (R \\right )}} \\operatorname{K_{n}}{\\left (R \\right )}\\right) \\tanh{\\left (\\frac{z \\operatorname{K_{n}}{\\left (R \\right )}}{\\operatorname{B_{n}}{\\left (R \\right )}} \\right )} - \\log{\\left (\\operatorname{sech}{\\left (\\frac{z \\operatorname{K_{n}}{\\left (R \\right )}}{\\operatorname{B_{n}}{\\left (R \\right )}} \\right )} \\right )} \\frac{d}{d R} \\operatorname{B_{n}}{\\left (R \\right )}\\right) \\cos{\\left (n g{\\left (\\phi,R,t \\right )} \\right )} + \\frac{\\frac{d}{d R} \\operatorname{K_{n}}{\\left (R \\right )}}{\\operatorname{K_{n}}{\\left (R \\right )}} \\cos{\\left (n g{\\left (\\phi,R,t \\right )} \\right )} + \\frac{\\frac{d}{d R} \\operatorname{D_{n}}{\\left (R \\right )}}{\\operatorname{D_{n}}{\\left (R \\right )}} \\cos{\\left (n g{\\left (\\phi,R,t \\right )} \\right )}\\right) - \\frac{1}{R_{s}^{2}} \\sum_{n=1}^{m} \\frac{C_{n} \\operatorname{sech}^{\\operatorname{B_{n}}{\\left (R \\right )}}{\\left (\\frac{z \\operatorname{K_{n}}{\\left (R \\right )}}{\\operatorname{B_{n}}{\\left (R \\right )}} \\right )}}{\\operatorname{D_{n}}{\\left (R \\right )} \\operatorname{K_{n}}{\\left (R \\right )}} \\cos{\\left (n g{\\left (\\phi,R,t \\right )} \\right )}\\right) e^{- \\frac{1}{R_{s}} \\left(R - r_{ref}\\right)}$$"
      ],
      "text/plain": [
       "  ⎛                                                                           \n",
       "  ⎜                                                                           \n",
       "  ⎜                                                                           \n",
       "  ⎜                                                                           \n",
       "  ⎜                                                                           \n",
       "  ⎜     m                                                                     \n",
       "  ⎜  ________                                                                 \n",
       "  ⎜  ╲                                                                        \n",
       "  ⎜   ╲           ⎛                                                           \n",
       "  ⎜    ╲          ⎜                                                           \n",
       "  ⎜     ╲         ⎜                                                           \n",
       "  ⎜      ╲        ⎜                                               ⎛  ⎛        \n",
       "  ⎜       ╲       ⎜                                       2       ⎜  ⎜        \n",
       "  ⎜        ╲      ⎜   2                   ⎛∂             ⎞        ⎜  ⎜d       \n",
       "H⋅⎜-       ╱  C_n⋅⎜- n ⋅cos(n⋅g(φ, R, t))⋅⎜──(g(φ, R, t))⎟  + 2⋅n⋅⎜z⋅⎜──(K_n(R\n",
       "  ⎜       ╱       ⎜                       ⎝∂R            ⎠        ⎝  ⎝dR      \n",
       "  ⎜      ╱        ⎝                                                           \n",
       "  ⎜     ╱     ────────────────────────────────────────────────────────────────\n",
       "  ⎜    ╱                                                                      \n",
       "  ⎜   ╱                                                                       \n",
       "  ⎜  ╱                                                                        \n",
       "  ⎜  ‾‾‾‾‾‾‾‾                                                                 \n",
       "  ⎝   n = 1                                                                   \n",
       "\n",
       "                                                                              \n",
       "                                                                              \n",
       "                                                                              \n",
       "                                                                              \n",
       "                                                                              \n",
       "                                                                              \n",
       "                                                                              \n",
       "                                                                              \n",
       "                                                                              \n",
       "                                                                              \n",
       "                                                                              \n",
       "            d         ⎞                                                ⎞      \n",
       "     K_n(R)⋅──(B_n(R))⎟                                                ⎟      \n",
       "            dR        ⎟     ⎛z⋅K_n(R)⎞      ⎛    ⎛z⋅K_n(R)⎞⎞ d         ⎟      \n",
       ")) - ─────────────────⎟⋅tanh⎜────────⎟ - log⎜sech⎜────────⎟⎟⋅──(B_n(R))⎟⋅sin(n\n",
       "           B_n(R)     ⎠     ⎝ B_n(R) ⎠      ⎝    ⎝ B_n(R) ⎠⎠ dR        ⎠      \n",
       "                                                                              \n",
       "──────────────────────────────────────────────────────────────────────────────\n",
       "                                                                              \n",
       "                                                                              \n",
       "                                                                              \n",
       "                                                                              \n",
       "                                                                              \n",
       "\n",
       "                                                                              \n",
       "                                                                              \n",
       "                                                                              \n",
       "                                                                              \n",
       "                                                                              \n",
       "                                                                              \n",
       "                                                                              \n",
       "                                                                              \n",
       "                                                                              \n",
       "                                                                              \n",
       "                                                                              \n",
       "                                                                              \n",
       "                                                    2               2⋅n⋅sin(n⋅\n",
       "             ∂                                     ∂                          \n",
       "⋅g(φ, R, t))⋅──(g(φ, R, t)) - n⋅sin(n⋅g(φ, R, t))⋅───(g(φ, R, t)) + ──────────\n",
       "             ∂R                                     2                         \n",
       "                                                  ∂R                          \n",
       "──────────────────────────────────────────────────────────────────────────────\n",
       "                                                                              \n",
       "                                                                              \n",
       "                                                                              \n",
       "                                                                              \n",
       "                                                                              \n",
       "\n",
       "                                                                              \n",
       "                                                                              \n",
       "                                                                              \n",
       "                                                                              \n",
       "                                                                              \n",
       "                                                                              \n",
       "                                                                              \n",
       "                                                                              \n",
       "                                                                              \n",
       "                                                                              \n",
       "                                                                              \n",
       "            d          ∂                                      d          ∂    \n",
       "g(φ, R, t))⋅──(K_n(R))⋅──(g(φ, R, t))   2⋅n⋅sin(n⋅g(φ, R, t))⋅──(D_n(R))⋅──(g(\n",
       "            dR         ∂R                                     dR         ∂R   \n",
       "───────────────────────────────────── + ──────────────────────────────────────\n",
       "           K_n(R)                                            D_n(R)           \n",
       "                                                                              \n",
       "──────────────────────────────────────────────────────────────────────────────\n",
       "                                                                              \n",
       "                                                                              \n",
       "                                                                              \n",
       "                                                                              \n",
       "                                                                              \n",
       "\n",
       "                                                                              \n",
       "                                                                              \n",
       "                                                                              \n",
       "                                                                              \n",
       "                                                                              \n",
       "                                                                              \n",
       "                                                                              \n",
       "                                                                              \n",
       "                                                                              \n",
       "                                                                              \n",
       "                                                                              \n",
       "            ⎛  ⎛                    d         ⎞                               \n",
       "φ, R, t))   ⎜  ⎜             K_n(R)⋅──(B_n(R))⎟                               \n",
       "            ⎜  ⎜d                   dR        ⎟     ⎛z⋅K_n(R)⎞      ⎛    ⎛z⋅K_\n",
       "───────── + ⎜z⋅⎜──(K_n(R)) - ─────────────────⎟⋅tanh⎜────────⎟ - log⎜sech⎜────\n",
       "            ⎝  ⎝dR                 B_n(R)     ⎠     ⎝ B_n(R) ⎠      ⎝    ⎝ B_n\n",
       "                                                                              \n",
       "──────────────────────────────────────────────────────────────────────────────\n",
       "                                                                              \n",
       "                                                                              \n",
       "                                                                              \n",
       "                                                                              \n",
       "                                                                              \n",
       "\n",
       "                                                                              \n",
       "                                                                              \n",
       "                                                                              \n",
       "                                                                              \n",
       "                                                                              \n",
       "                                                                              \n",
       "                                                                              \n",
       "                                                                              \n",
       "                                                                              \n",
       "                                          ⎛  ⎛                    d         ⎞ \n",
       "                  2                       ⎜  ⎜             K_n(R)⋅──(B_n(R))⎟ \n",
       "                 ⎞                        ⎜  ⎜d                   dR        ⎟ \n",
       "                 ⎟                      2⋅⎜z⋅⎜──(K_n(R)) - ─────────────────⎟⋅\n",
       "n(R)⎞⎞ d         ⎟                        ⎝  ⎝dR                 B_n(R)     ⎠ \n",
       "────⎟⎟⋅──(B_n(R))⎟ ⋅cos(n⋅g(φ, R, t)) + ──────────────────────────────────────\n",
       "(R) ⎠⎠ dR        ⎠                                                            \n",
       "                                                                              \n",
       "──────────────────────────────────────────────────────────────────────────────\n",
       "                                                                              \n",
       "                                                                              \n",
       "                                                                              \n",
       "                                                                              \n",
       "                                                                              \n",
       "\n",
       "                                                                              \n",
       "                                                                              \n",
       "                                                                              \n",
       "                                                                              \n",
       "                                                                              \n",
       "                                                                              \n",
       "                                                                              \n",
       "                                                                              \n",
       "                                                                              \n",
       "                                               ⎞                              \n",
       "                                               ⎟                              \n",
       "    ⎛z⋅K_n(R)⎞      ⎛    ⎛z⋅K_n(R)⎞⎞ d         ⎟                   d          \n",
       "tanh⎜────────⎟ - log⎜sech⎜────────⎟⎟⋅──(B_n(R))⎟⋅cos(n⋅g(φ, R, t))⋅──(K_n(R)) \n",
       "    ⎝ B_n(R) ⎠      ⎝    ⎝ B_n(R) ⎠⎠ dR        ⎠                   dR         \n",
       "───────────────────────────────────────────────────────────────────────────── \n",
       "                 K_n(R)                                                       \n",
       "                                                                              \n",
       "──────────────────────────────────────────────────────────────────────────────\n",
       "                                                                              \n",
       "                                                                              \n",
       "                                                                              \n",
       "                                                                              \n",
       "                                                                              \n",
       "\n",
       "                                                                              \n",
       "                                                                              \n",
       "                                                                              \n",
       "                                                                              \n",
       "                                                                              \n",
       "                                                                              \n",
       "                                                                              \n",
       "                                                                              \n",
       "                                                                              \n",
       "    ⎛  ⎛                    d         ⎞                                       \n",
       "    ⎜  ⎜             K_n(R)⋅──(B_n(R))⎟                                       \n",
       "    ⎜  ⎜d                   dR        ⎟     ⎛z⋅K_n(R)⎞      ⎛    ⎛z⋅K_n(R)⎞⎞ d\n",
       "  2⋅⎜z⋅⎜──(K_n(R)) - ─────────────────⎟⋅tanh⎜────────⎟ - log⎜sech⎜────────⎟⎟⋅─\n",
       "    ⎝  ⎝dR                 B_n(R)     ⎠     ⎝ B_n(R) ⎠      ⎝    ⎝ B_n(R) ⎠⎠ d\n",
       "+ ────────────────────────────────────────────────────────────────────────────\n",
       "                                                         D_n(R)               \n",
       "                                                                              \n",
       "──────────────────────────────────────────────────────────────────────────────\n",
       "                              D_n(R)⋅K_n(R)                                   \n",
       "                                                                              \n",
       "                                                                              \n",
       "                                                                              \n",
       "                                                                              \n",
       "\n",
       "                                                                              \n",
       "                                                                              \n",
       "                                                                              \n",
       "                                                                              \n",
       "                                                                              \n",
       "                                                                              \n",
       "                                                                              \n",
       "                                                                              \n",
       "                                          ⎛                                   \n",
       "         ⎞                                ⎜                           ⎛       \n",
       "         ⎟                                ⎜                           ⎜       \n",
       "         ⎟                   d            ⎜ 2 ⎛      2⎛z⋅K_n(R)⎞    ⎞ ⎜d      \n",
       "─(B_n(R))⎟⋅cos(n⋅g(φ, R, t))⋅──(D_n(R))   ⎜z ⋅⎜- tanh ⎜────────⎟ + 1⎟⋅⎜──(K_n(\n",
       "R        ⎠                   dR           ⎜   ⎝       ⎝ B_n(R) ⎠    ⎠ ⎝dR     \n",
       "─────────────────────────────────────── - ⎜───────────────────────────────────\n",
       "                                          ⎜                           B_n(R)  \n",
       "                                          ⎝                                   \n",
       "──────────────────────────────────────────────────────────────────────────────\n",
       "                                                                              \n",
       "                                                                              \n",
       "                                                                              \n",
       "                                                                              \n",
       "                                                                              \n",
       "\n",
       "                                                                              \n",
       "                                                                              \n",
       "                                                                              \n",
       "                                                                              \n",
       "                                                                              \n",
       "                                                                              \n",
       "                                                                              \n",
       "                                                                              \n",
       "                        2                                                     \n",
       "             d         ⎞        ⎛                    d         ⎞              \n",
       "      K_n(R)⋅──(B_n(R))⎟        ⎜             K_n(R)⋅──(B_n(R))⎟              \n",
       "             dR        ⎟        ⎜d                   dR        ⎟     ⎛z⋅K_n(R)\n",
       "R)) - ─────────────────⎟    2⋅z⋅⎜──(K_n(R)) - ─────────────────⎟⋅tanh⎜────────\n",
       "            B_n(R)     ⎠        ⎝dR                 B_n(R)     ⎠     ⎝ B_n(R) \n",
       "───────────────────────── + ──────────────────────────────────────────────────\n",
       "                                                        B_n(R)                \n",
       "                                                                              \n",
       "──────────────────────────────────────────────────────────────────────────────\n",
       "                                                                              \n",
       "                                                                              \n",
       "                                                                              \n",
       "                                                                              \n",
       "                                                                              \n",
       "\n",
       "                                                                              \n",
       "                                                                              \n",
       "                                                                              \n",
       "                                                                              \n",
       "                                                                              \n",
       "                                                                              \n",
       "                                                                              \n",
       "                                                                              \n",
       "                                                                              \n",
       "                 ⎛                       2                                    \n",
       "                 ⎜                      d                                     \n",
       "⎞ d              ⎜              K_n(R)⋅───(B_n(R))     d          d           \n",
       "⎟⋅──(B_n(R))     ⎜  2                    2           2⋅──(B_n(R))⋅──(K_n(R))  \n",
       "⎠ dR             ⎜ d                   dR              dR         dR          \n",
       "──────────── + z⋅⎜───(K_n(R)) - ────────────────── - ─────────────────────── +\n",
       "                 ⎜  2                 B_n(R)                  B_n(R)          \n",
       "                 ⎝dR                                                          \n",
       "──────────────────────────────────────────────────────────────────────────────\n",
       "                                                                              \n",
       "                                                                              \n",
       "                                                                              \n",
       "                                                                              \n",
       "                                                                              \n",
       "\n",
       "                                                                              \n",
       "                                                                              \n",
       "                                                                              \n",
       "                                                                              \n",
       "                                                                              \n",
       "                                                                              \n",
       "                                                                              \n",
       "                                                                              \n",
       "                                                                         ⎞    \n",
       "                       ⎞                                                 ⎟    \n",
       "                      2⎟                                                 ⎟    \n",
       "          ⎛d         ⎞ ⎟                                                 ⎟    \n",
       " 2⋅K_n(R)⋅⎜──(B_n(R))⎟ ⎟                                        2        ⎟    \n",
       "          ⎝dR        ⎠ ⎟     ⎛z⋅K_n(R)⎞      ⎛    ⎛z⋅K_n(R)⎞⎞  d         ⎟    \n",
       " ──────────────────────⎟⋅tanh⎜────────⎟ - log⎜sech⎜────────⎟⎟⋅───(B_n(R))⎟⋅cos\n",
       "           2           ⎟     ⎝ B_n(R) ⎠      ⎝    ⎝ B_n(R) ⎠⎠   2        ⎟    \n",
       "        B_n (R)        ⎠                                      dR         ⎠    \n",
       "──────────────────────────────────────────────────────────────────────────────\n",
       "                                                                              \n",
       "                                                                              \n",
       "                                                                              \n",
       "                                                                              \n",
       "                                                                              \n",
       "\n",
       "                                                                              \n",
       "                                                                              \n",
       "                                                                              \n",
       "                                                                              \n",
       "                                                                              \n",
       "                                                                              \n",
       "                                                                              \n",
       "                                                                              \n",
       "                                                                              \n",
       "                                     2                                        \n",
       "                                    d                                         \n",
       "                 cos(n⋅g(φ, R, t))⋅───(K_n(R))                       ⎛d       \n",
       "                                     2           2⋅cos(n⋅g(φ, R, t))⋅⎜──(K_n(R\n",
       "                                   dR                                ⎝dR      \n",
       "(n⋅g(φ, R, t)) - ───────────────────────────── + ─────────────────────────────\n",
       "                             K_n(R)                              2            \n",
       "                                                              K_n (R)         \n",
       "──────────────────────────────────────────────────────────────────────────────\n",
       "                                                                              \n",
       "                                                                              \n",
       "                                                                              \n",
       "                                                                              \n",
       "                                                                              \n",
       "\n",
       "                                                                              \n",
       "                                                                              \n",
       "                                                                              \n",
       "                                                                              \n",
       "                                                                              \n",
       "                                                                              \n",
       "                                                                              \n",
       "                                                                              \n",
       "                                                                              \n",
       "                           2                                                  \n",
       "   2                      d                                                   \n",
       "  ⎞    cos(n⋅g(φ, R, t))⋅───(D_n(R))                       d          d       \n",
       "))⎟                        2           2⋅cos(n⋅g(φ, R, t))⋅──(D_n(R))⋅──(K_n(R\n",
       "  ⎠                      dR                                dR         dR      \n",
       "──── - ───────────────────────────── + ───────────────────────────────────────\n",
       "                   D_n(R)                            D_n(R)⋅K_n(R)            \n",
       "                                                                              \n",
       "──────────────────────────────────────────────────────────────────────────────\n",
       "                                                                              \n",
       "                                                                              \n",
       "                                                                              \n",
       "                                                                              \n",
       "                                                                              \n",
       "\n",
       "                                                                   m          \n",
       "                                                                 ______       \n",
       "                                                                 ╲            \n",
       "                                                                  ╲          ⎛\n",
       "                                                                   ╲         ⎜\n",
       "                                                                    ╲        ⎜\n",
       "                                                                     ╲  -C_n⋅⎜\n",
       "                                                               2⋅    ╱       ⎝\n",
       "                                      ⎞                             ╱   ──────\n",
       "                                      ⎟                            ╱          \n",
       "                                     2⎟                           ╱           \n",
       "                         ⎛d         ⎞ ⎟                          ╱            \n",
       "))   2⋅cos(n⋅g(φ, R, t))⋅⎜──(D_n(R))⎟ ⎟                          ‾‾‾‾‾‾       \n",
       "                         ⎝dR        ⎠ ⎟     B_n(R)⎛z⋅K_n(R)⎞     n = 1        \n",
       "── + ─────────────────────────────────⎟⋅sech      ⎜────────⎟ + ───────────────\n",
       "                     2                ⎟           ⎝ B_n(R) ⎠                  \n",
       "                  D_n (R)             ⎠                                       \n",
       "────────────────────────────────────────────────────────────                  \n",
       "                                                                              \n",
       "                                                                              \n",
       "                                                                              \n",
       "                                                                              \n",
       "                                                                              \n",
       "\n",
       "                                                                              \n",
       "                                                                              \n",
       "                                                                              \n",
       "                                     ⎛  ⎛                    d         ⎞      \n",
       "                                     ⎜  ⎜             K_n(R)⋅──(B_n(R))⎟      \n",
       "                    ∂                ⎜  ⎜d                   dR        ⎟     ⎛\n",
       "n⋅sin(n⋅g(φ, R, t))⋅──(g(φ, R, t)) + ⎜z⋅⎜──(K_n(R)) - ─────────────────⎟⋅tanh⎜\n",
       "                    ∂R               ⎝  ⎝dR                 B_n(R)     ⎠     ⎝\n",
       "──────────────────────────────────────────────────────────────────────────────\n",
       "                                                                              \n",
       "                                                                              \n",
       "                                                                              \n",
       "                                                                              \n",
       "                                                                              \n",
       "──────────────────────────────────────────────────────────────────────────────\n",
       "                                                                              \n",
       "                                                                              \n",
       "                                                                              \n",
       "                                                                              \n",
       "                                                                              \n",
       "                                                                              \n",
       "                                                                              \n",
       "                                                                              \n",
       "\n",
       "                                                                              \n",
       "                                                                              \n",
       "                                                                              \n",
       "                                          ⎞                                   \n",
       "                                          ⎟                     cos(n⋅g(φ, R, \n",
       "z⋅K_n(R)⎞      ⎛    ⎛z⋅K_n(R)⎞⎞ d         ⎟                                   \n",
       "────────⎟ - log⎜sech⎜────────⎟⎟⋅──(B_n(R))⎟⋅cos(n⋅g(φ, R, t)) + ──────────────\n",
       " B_n(R) ⎠      ⎝    ⎝ B_n(R) ⎠⎠ dR        ⎠                                K_n\n",
       "──────────────────────────────────────────────────────────────────────────────\n",
       "                        D_n(R)⋅K_n(R)                                         \n",
       "                                                                              \n",
       "                                                                              \n",
       "                                                                              \n",
       "                                                                              \n",
       "──────────────────────────────────────────────────────────────────────────────\n",
       "                         R_s                                                  \n",
       "                                                                              \n",
       "                                                                              \n",
       "                                                                              \n",
       "                                                                              \n",
       "                                                                              \n",
       "                                                                              \n",
       "                                                                              \n",
       "\n",
       "                                                                              \n",
       "                                                                              \n",
       "                                                                         m    \n",
       "    d                              d         ⎞                         _____  \n",
       "t))⋅──(K_n(R))   cos(n⋅g(φ, R, t))⋅──(D_n(R))⎟                         ╲      \n",
       "    dR                             dR        ⎟     B_n(R)⎛z⋅K_n(R)⎞     ╲     \n",
       "────────────── + ────────────────────────────⎟⋅sech      ⎜────────⎟      ╲   C\n",
       "(R)                         D_n(R)           ⎠           ⎝ B_n(R) ⎠       ╲   \n",
       "────────────────────────────────────────────────────────────────────      ╱  ─\n",
       "                                                                         ╱    \n",
       "                                                                        ╱     \n",
       "                                                                       ╱      \n",
       "                                                                       ‾‾‾‾‾  \n",
       "                                                                       n = 1  \n",
       "──────────────────────────────────────────────────────────────────── - ───────\n",
       "                                                                              \n",
       "                                                                              \n",
       "                                                                              \n",
       "                                                                              \n",
       "                                                                              \n",
       "                                                                              \n",
       "                                                                              \n",
       "                                                                              \n",
       "\n",
       "                                         ⎞               \n",
       "                                         ⎟               \n",
       "                                         ⎟               \n",
       "                                         ⎟               \n",
       "                                         ⎟               \n",
       "                         B_n(R)⎛z⋅K_n(R)⎞⎟               \n",
       "_n⋅cos(n⋅g(φ, R, t))⋅sech      ⎜────────⎟⎟               \n",
       "                               ⎝ B_n(R) ⎠⎟               \n",
       "─────────────────────────────────────────⎟               \n",
       "             D_n(R)⋅K_n(R)               ⎟               \n",
       "                                         ⎟               \n",
       "                                         ⎟  -(R - r_ref) \n",
       "                                         ⎟  ─────────────\n",
       "                                         ⎟       R_s     \n",
       "─────────────────────────────────────────⎟⋅ℯ             \n",
       "                  2                      ⎟               \n",
       "               R_s                       ⎟               \n",
       "                                         ⎟               \n",
       "                                         ⎟               \n",
       "                                         ⎟               \n",
       "                                         ⎟               \n",
       "                                         ⎟               \n",
       "                                         ⎠               "
      ]
     },
     "execution_count": 32,
     "metadata": {},
     "output_type": "execute_result"
    }
   ],
   "source": [
    "d2Phi_dR2 = sym.diff(Phi, R, 2)\n",
    "d2Phi_dR2"
   ]
  },
  {
   "cell_type": "markdown",
   "metadata": {},
   "source": [
    "## z2deriv ($\\frac{d^2\\Phi}{dz^2}$)"
   ]
  },
  {
   "cell_type": "code",
   "execution_count": 9,
   "metadata": {},
   "outputs": [
    {
     "data": {
      "image/png": "[encoded data removed]",
      "text/latex": [
       "$$- H e^{- \\frac{1}{R_{s}} \\left(R - r_{ref}\\right)} \\sum_{n=1}^{m} \\frac{C_{n} \\operatorname{K_{n}}{\\left (R \\right )}}{\\operatorname{D_{n}}{\\left (R \\right )}} \\left(\\frac{1}{\\operatorname{B_{n}}{\\left (R \\right )}} \\left(\\tanh^{2}{\\left (\\frac{z \\operatorname{K_{n}}{\\left (R \\right )}}{\\operatorname{B_{n}}{\\left (R \\right )}} \\right )} - 1\\right) + \\tanh^{2}{\\left (\\frac{z \\operatorname{K_{n}}{\\left (R \\right )}}{\\operatorname{B_{n}}{\\left (R \\right )}} \\right )}\\right) \\cos{\\left (n g{\\left (\\phi,R,t \\right )} \\right )} \\operatorname{sech}^{\\operatorname{B_{n}}{\\left (R \\right )}}{\\left (\\frac{z \\operatorname{K_{n}}{\\left (R \\right )}}{\\operatorname{B_{n}}{\\left (R \\right )}} \\right )}$$"
      ],
      "text/plain": [
       "                    m                                                         \n",
       "                  ______                                                      \n",
       "                  ╲                                                           \n",
       "                   ╲         ⎛    2⎛z⋅K_n(R)⎞                      ⎞          \n",
       "    -(R - r_ref)    ╲        ⎜tanh ⎜────────⎟ - 1                  ⎟          \n",
       "    ─────────────    ╲       ⎜     ⎝ B_n(R) ⎠           2⎛z⋅K_n(R)⎞⎟          \n",
       "         R_s          ╲  C_n⋅⎜─────────────────── + tanh ⎜────────⎟⎟⋅K_n(R)⋅co\n",
       "-H⋅ℯ             ⋅    ╱      ⎝       B_n(R)              ⎝ B_n(R) ⎠⎠          \n",
       "                     ╱   ─────────────────────────────────────────────────────\n",
       "                    ╱                                              D_n(R)     \n",
       "                   ╱                                                          \n",
       "                  ╱                                                           \n",
       "                  ‾‾‾‾‾‾                                                      \n",
       "                  n = 1                                                       \n",
       "\n",
       "                                    \n",
       "                                    \n",
       "                                    \n",
       "                                    \n",
       "                                    \n",
       "                    B_n(R)⎛z⋅K_n(R)⎞\n",
       "s(n⋅g(φ, R, t))⋅sech      ⎜────────⎟\n",
       "                          ⎝ B_n(R) ⎠\n",
       "────────────────────────────────────\n",
       "                                    \n",
       "                                    \n",
       "                                    \n",
       "                                    \n",
       "                                    "
      ]
     },
     "execution_count": 9,
     "metadata": {},
     "output_type": "execute_result"
    }
   ],
   "source": [
    "d2Phi_dz2 = sym.diff(Phi, z, 2)\n",
    "d2Phi_dz2"
   ]
  },
  {
   "cell_type": "markdown",
   "metadata": {},
   "source": [
    "## phi2deriv ($\\frac{d^2 \\Phi}{d \\phi^2}$)"
   ]
  },
  {
   "cell_type": "code",
   "execution_count": 38,
   "metadata": {
    "scrolled": true
   },
   "outputs": [
    {
     "data": {
      "image/png": "[encoded data removed]",
      "text/latex": [
       "$$- H e^{- \\frac{1}{R_{s}} \\left(R - r_{ref}\\right)} \\sum_{n=1}^{m} - \\frac{C_{n} n \\operatorname{sech}^{\\operatorname{B_{n}}{\\left (R \\right )}}{\\left (\\frac{z \\operatorname{K_{n}}{\\left (R \\right )}}{\\operatorname{B_{n}}{\\left (R \\right )}} \\right )}}{\\operatorname{D_{n}}{\\left (R \\right )} \\operatorname{K_{n}}{\\left (R \\right )}} \\left(n \\cos{\\left (n g{\\left (\\phi,R,t \\right )} \\right )} \\frac{\\partial}{\\partial \\phi} g{\\left (\\phi,R,t \\right )}^{2} + \\sin{\\left (n g{\\left (\\phi,R,t \\right )} \\right )} \\frac{\\partial^{2}}{\\partial \\phi^{2}}  g{\\left (\\phi,R,t \\right )}\\right)$$"
      ],
      "text/plain": [
       "                    m                                                         \n",
       "                  ______                                                      \n",
       "                  ╲                                                           \n",
       "                   ╲            ⎛                                    2        \n",
       "    -(R - r_ref)    ╲           ⎜                    ⎛∂             ⎞         \n",
       "    ─────────────    ╲   -C_n⋅n⋅⎜n⋅cos(n⋅g(φ, R, t))⋅⎜──(g(φ, R, t))⎟  + sin(n\n",
       "         R_s          ╲         ⎜                    ⎝∂φ            ⎠         \n",
       "-H⋅ℯ             ⋅    ╱         ⎝                                             \n",
       "                     ╱   ─────────────────────────────────────────────────────\n",
       "                    ╱                                                 D_n(R)⋅K\n",
       "                   ╱                                                          \n",
       "                  ╱                                                           \n",
       "                  ‾‾‾‾‾‾                                                      \n",
       "                  n = 1                                                       \n",
       "\n",
       "                                                   \n",
       "                                                   \n",
       "                                                   \n",
       "               2            ⎞                      \n",
       "              ∂             ⎟     B_n(R)⎛z⋅K_n(R)⎞ \n",
       "⋅g(φ, R, t))⋅───(g(φ, R, t))⎟⋅sech      ⎜────────⎟ \n",
       "               2            ⎟           ⎝ B_n(R) ⎠ \n",
       "             ∂φ             ⎠                      \n",
       "───────────────────────────────────────────────────\n",
       "_n(R)                                              \n",
       "                                                   \n",
       "                                                   \n",
       "                                                   \n",
       "                                                   "
      ]
     },
     "execution_count": 38,
     "metadata": {},
     "output_type": "execute_result"
    }
   ],
   "source": [
    "d2Phi_dphi2 = sym.diff(Phi, phi, 2)\n",
    "d2Phi_dphi2"
   ]
  },
  {
   "cell_type": "markdown",
   "metadata": {},
   "source": [
    "## $\\frac{d(\\gamma^2)}{d\\phi}$"
   ]
  },
  {
   "cell_type": "code",
   "execution_count": 35,
   "metadata": {},
   "outputs": [
    {
     "data": {
      "image/png": "[encoded data removed]",
      "text/latex": [
       "$$N \\left(\\omega t + \\phi - \\phi_{ref} - \\frac{\\log{\\left (\\frac{R}{r_{ref}} \\right )}}{\\tan{\\left (\\alpha \\right )}}\\right)$$"
      ],
      "text/plain": [
       "  ⎛                     ⎛  R  ⎞⎞\n",
       "  ⎜                  log⎜─────⎟⎟\n",
       "  ⎜                     ⎝r_ref⎠⎟\n",
       "N⋅⎜ω⋅t + φ - φ_ref - ──────────⎟\n",
       "  ⎝                    tan(α)  ⎠"
      ]
     },
     "execution_count": 35,
     "metadata": {},
     "output_type": "execute_result"
    }
   ],
   "source": [
    "g = N * (phi - phi_ref - sym.log(R/r_ref)/sym.tan(alpha) + omega*t)\n",
    "g"
   ]
  },
  {
   "cell_type": "code",
   "execution_count": 21,
   "metadata": {},
   "outputs": [
    {
     "data": {
      "image/png": "[encoded data removed]",
      "text/latex": [
       "$$N^{2} \\left(2 \\omega t + 2 \\phi - 2 \\phi_{ref} - \\frac{2 \\log{\\left (\\frac{R}{r_{ref}} \\right )}}{\\tan{\\left (\\alpha \\right )}}\\right)$$"
      ],
      "text/plain": [
       "   ⎛                             ⎛  R  ⎞⎞\n",
       "   ⎜                        2⋅log⎜─────⎟⎟\n",
       " 2 ⎜                             ⎝r_ref⎠⎟\n",
       "N ⋅⎜2⋅ω⋅t + 2⋅φ - 2⋅φ_ref - ────────────⎟\n",
       "   ⎝                           tan(α)   ⎠"
      ]
     },
     "execution_count": 21,
     "metadata": {},
     "output_type": "execute_result"
    }
   ],
   "source": [
    "sym.diff(g**2, phi)"
   ]
  },
  {
   "cell_type": "code",
   "execution_count": 22,
   "metadata": {},
   "outputs": [
    {
     "data": {
      "image/png": "[encoded data removed]",
      "text/latex": [
       "$$- \\frac{N}{R \\tan{\\left (\\alpha \\right )}}$$"
      ],
      "text/plain": [
       "  -N    \n",
       "────────\n",
       "R⋅tan(α)"
      ]
     },
     "execution_count": 22,
     "metadata": {},
     "output_type": "execute_result"
    }
   ],
   "source": [
    "sym.diff(g, R)"
   ]
  },
  {
   "cell_type": "markdown",
   "metadata": {},
   "source": [
    "## Define $K_n$, $B_n$, and $D_n$"
   ]
  },
  {
   "cell_type": "code",
   "execution_count": 27,
   "metadata": {},
   "outputs": [],
   "source": [
    "K = n*N/R/sym.sin(alpha)\n",
    "B = K*H*(1.+0.4*K*H)\n",
    "D = (1.+ K*H + 0.3*(K*H)**2)/(.1+0.3*K*H)"
   ]
  },
  {
   "cell_type": "markdown",
   "metadata": {},
   "source": [
    "## Derivatives of $K_n$, $B_n$, and $D_n$ wrt $R$"
   ]
  },
  {
   "cell_type": "code",
   "execution_count": 29,
   "metadata": {},
   "outputs": [
    {
     "data": {
      "image/png": "[encoded data removed]",
      "text/latex": [
       "$$- \\frac{N n}{R^{2} \\sin{\\left (\\alpha \\right )}}$$"
      ],
      "text/plain": [
       "  -N⋅n   \n",
       "─────────\n",
       " 2       \n",
       "R ⋅sin(α)"
      ]
     },
     "execution_count": 29,
     "metadata": {},
     "output_type": "execute_result"
    }
   ],
   "source": [
    "sym.diff(K, R)"
   ]
  },
  {
   "cell_type": "code",
   "execution_count": 30,
   "metadata": {},
   "outputs": [
    {
     "data": {
      "image/png": "[encoded data removed]",
      "text/latex": [
       "$$- \\frac{0.4 H^{2} N^{2} n^{2}}{R^{3} \\sin^{2}{\\left (\\alpha \\right )}} - \\frac{H N n}{R^{2} \\sin{\\left (\\alpha \\right )}} \\left(\\frac{0.4 H N n}{R \\sin{\\left (\\alpha \\right )}} + 1.0\\right)$$"
      ],
      "text/plain": [
       "                       ⎛0.4⋅H⋅N⋅n      ⎞\n",
       "       2  2  2   H⋅N⋅n⋅⎜───────── + 1.0⎟\n",
       "  0.4⋅H ⋅N ⋅n          ⎝ R⋅sin(α)      ⎠\n",
       "- ──────────── - ───────────────────────\n",
       "    3    2               2              \n",
       "   R ⋅sin (α)           R ⋅sin(α)       "
      ]
     },
     "execution_count": 30,
     "metadata": {},
     "output_type": "execute_result"
    }
   ],
   "source": [
    "sym.diff(B, R)"
   ]
  },
  {
   "cell_type": "code",
   "execution_count": 31,
   "metadata": {},
   "outputs": [
    {
     "data": {
      "image/png": "[encoded data removed]",
      "text/latex": [
       "$$\\frac{0.3 H N n \\left(\\frac{0.3 H^{2} N^{2} n^{2}}{R^{2} \\sin^{2}{\\left (\\alpha \\right )}} + \\frac{H N n}{R \\sin{\\left (\\alpha \\right )}} + 1.0\\right)}{R^{2} \\left(\\frac{0.3 H N n}{R \\sin{\\left (\\alpha \\right )}} + 0.1\\right)^{2} \\sin{\\left (\\alpha \\right )}} + \\frac{- \\frac{0.6 H^{2} N^{2} n^{2}}{R^{3} \\sin^{2}{\\left (\\alpha \\right )}} - \\frac{H N n}{R^{2} \\sin{\\left (\\alpha \\right )}}}{\\frac{0.3 H N n}{R \\sin{\\left (\\alpha \\right )}} + 0.1}$$"
      ],
      "text/plain": [
       "          ⎛     2  2  2                 ⎞          2  2  2            \n",
       "          ⎜0.3⋅H ⋅N ⋅n     H⋅N⋅n        ⎟     0.6⋅H ⋅N ⋅n      H⋅N⋅n  \n",
       "0.3⋅H⋅N⋅n⋅⎜──────────── + ──────── + 1.0⎟   - ──────────── - ─────────\n",
       "          ⎜  2    2       R⋅sin(α)      ⎟       3    2        2       \n",
       "          ⎝ R ⋅sin (α)                  ⎠      R ⋅sin (α)    R ⋅sin(α)\n",
       "───────────────────────────────────────── + ──────────────────────────\n",
       "                           2                     0.3⋅H⋅N⋅n            \n",
       "        2 ⎛0.3⋅H⋅N⋅n      ⎞                      ───────── + 0.1      \n",
       "       R ⋅⎜───────── + 0.1⎟ ⋅sin(α)               R⋅sin(α)            \n",
       "          ⎝ R⋅sin(α)      ⎠                                           "
      ]
     },
     "execution_count": 31,
     "metadata": {},
     "output_type": "execute_result"
    }
   ],
   "source": [
    "sym.diff(D, R)"
   ]
  },
  {
   "cell_type": "code",
   "execution_count": 33,
   "metadata": {},
   "outputs": [
    {
     "data": {
      "image/png": "[encoded data removed]",
      "text/latex": [
       "$$N$$"
      ],
      "text/plain": [
       "N"
      ]
     },
     "execution_count": 33,
     "metadata": {},
     "output_type": "execute_result"
    }
   ],
   "source": [
    "sym.diff(g, phi)"
   ]
  },
  {
   "cell_type": "code",
   "execution_count": 36,
   "metadata": {},
   "outputs": [
    {
     "data": {
      "image/png": "[encoded data removed]",
      "text/latex": [
       "$$0$$"
      ],
      "text/plain": [
       "0"
      ]
     },
     "execution_count": 36,
     "metadata": {},
     "output_type": "execute_result"
    }
   ],
   "source": [
    "sym.diff(g, phi, 2)"
   ]
  },
  {
   "cell_type": "code",
   "execution_count": 37,
   "metadata": {},
   "outputs": [
    {
     "data": {
      "image/png": "[encoded data removed]",
      "text/latex": [
       "$$N \\left(\\omega t + \\phi - \\phi_{ref} - \\frac{\\log{\\left (\\frac{R}{r_{ref}} \\right )}}{\\tan{\\left (\\alpha \\right )}}\\right)$$"
      ],
      "text/plain": [
       "  ⎛                     ⎛  R  ⎞⎞\n",
       "  ⎜                  log⎜─────⎟⎟\n",
       "  ⎜                     ⎝r_ref⎠⎟\n",
       "N⋅⎜ω⋅t + φ - φ_ref - ──────────⎟\n",
       "  ⎝                    tan(α)  ⎠"
      ]
     },
     "execution_count": 37,
     "metadata": {},
     "output_type": "execute_result"
    }
   ],
   "source": [
    "g"
   ]
  },
  {
   "cell_type": "code",
   "execution_count": 43,
   "metadata": {
    "scrolled": false
   },
   "outputs": [
    {
     "data": {
      "image/png": "[encoded data removed]",
      "text/latex": [
       "$$- H e^{- \\frac{1}{R_{s}} \\left(R - r_{ref}\\right)} \\sum_{n=1}^{m} - \\frac{C_{n} N^{2} n^{2}}{\\operatorname{D_{n}}{\\left (R \\right )} \\operatorname{K_{n}}{\\left (R \\right )}} \\cos{\\left (N n \\left(\\omega t + \\phi - \\phi_{ref} - \\frac{\\log{\\left (\\frac{R}{r_{ref}} \\right )}}{\\tan{\\left (\\alpha \\right )}}\\right) \\right )} \\operatorname{sech}^{\\operatorname{B_{n}}{\\left (R \\right )}}{\\left (\\frac{z \\operatorname{K_{n}}{\\left (R \\right )}}{\\operatorname{B_{n}}{\\left (R \\right )}} \\right )}$$"
      ],
      "text/plain": [
       "                    m                                                         \n",
       "                  ______                                                      \n",
       "                  ╲                                                           \n",
       "                   ╲                   ⎛    ⎛                     ⎛  R  ⎞⎞⎞   \n",
       "    -(R - r_ref)    ╲                  ⎜    ⎜                  log⎜─────⎟⎟⎟   \n",
       "    ─────────────    ╲         2  2    ⎜    ⎜                     ⎝r_ref⎠⎟⎟   \n",
       "         R_s          ╲  -C_n⋅N ⋅n ⋅cos⎜N⋅n⋅⎜ω⋅t + φ - φ_ref - ──────────⎟⎟⋅se\n",
       "-H⋅ℯ             ⋅    ╱                ⎝    ⎝                    tan(α)  ⎠⎠   \n",
       "                     ╱   ─────────────────────────────────────────────────────\n",
       "                    ╱                                 D_n(R)⋅K_n(R)           \n",
       "                   ╱                                                          \n",
       "                  ╱                                                           \n",
       "                  ‾‾‾‾‾‾                                                      \n",
       "                  n = 1                                                       \n",
       "\n",
       "                   \n",
       "                   \n",
       "                   \n",
       "                   \n",
       "                   \n",
       "  B_n(R)⎛z⋅K_n(R)⎞ \n",
       "ch      ⎜────────⎟ \n",
       "        ⎝ B_n(R) ⎠ \n",
       "───────────────────\n",
       "                   \n",
       "                   \n",
       "                   \n",
       "                   \n",
       "                   "
      ]
     },
     "execution_count": 43,
     "metadata": {},
     "output_type": "execute_result"
    }
   ],
   "source": [
    "d2Phi_dphi2 = sym.diff(Phi, phi, 2)\n",
    "d2Phi_dphi2"
   ]
  },
  {
   "cell_type": "code",
   "execution_count": 42,
   "metadata": {},
   "outputs": [
    {
     "data": {
      "image/png": "[encoded data removed]",
      "text/latex": [
       "$$- H e^{\\frac{1}{R_{s}} \\left(- R + r_{ref}\\right)} \\sum_{n=1}^{m} \\frac{C_{n} \\operatorname{sech}^{\\operatorname{B_{n}}{\\left (R \\right )}}{\\left (\\frac{z \\operatorname{K_{n}}{\\left (R \\right )}}{\\operatorname{B_{n}}{\\left (R \\right )}} \\right )}}{\\operatorname{D_{n}}{\\left (R \\right )} \\operatorname{K_{n}}{\\left (R \\right )}} \\cos{\\left (N n \\left(\\omega t + \\phi - \\phi_{ref} - \\frac{\\log{\\left (\\frac{R}{r_{ref}} \\right )}}{\\tan{\\left (\\alpha \\right )}}\\right) \\right )}$$"
      ],
      "text/plain": [
       "                 m                                                            \n",
       "               ______                                                         \n",
       "               ╲                                                              \n",
       "                ╲            ⎛    ⎛                     ⎛  R  ⎞⎞⎞             \n",
       "    -R + r_ref   ╲           ⎜    ⎜                  log⎜─────⎟⎟⎟             \n",
       "    ──────────    ╲          ⎜    ⎜                     ⎝r_ref⎠⎟⎟     B_n(R)⎛z\n",
       "       R_s         ╲  C_n⋅cos⎜N⋅n⋅⎜ω⋅t + φ - φ_ref - ──────────⎟⎟⋅sech      ⎜─\n",
       "-H⋅ℯ          ⋅    ╱         ⎝    ⎝                    tan(α)  ⎠⎠           ⎝ \n",
       "                  ╱   ────────────────────────────────────────────────────────\n",
       "                 ╱                             D_n(R)⋅K_n(R)                  \n",
       "                ╱                                                             \n",
       "               ╱                                                              \n",
       "               ‾‾‾‾‾‾                                                         \n",
       "               n = 1                                                          \n",
       "\n",
       "        \n",
       "        \n",
       "        \n",
       "        \n",
       "        \n",
       "⋅K_n(R)⎞\n",
       "───────⎟\n",
       "B_n(R) ⎠\n",
       "────────\n",
       "        \n",
       "        \n",
       "        \n",
       "        \n",
       "        "
      ]
     },
     "execution_count": 42,
     "metadata": {},
     "output_type": "execute_result"
    }
   ],
   "source": [
    "Phi"
   ]
  },
  {
   "cell_type": "code",
   "execution_count": 70,
   "metadata": {},
   "outputs": [],
   "source": [
    "g = sym.var('g', cls=sym.Function)\n",
    "g = g(R, phi, t)"
   ]
  },
  {
   "cell_type": "code",
   "execution_count": 87,
   "metadata": {},
   "outputs": [
    {
     "data": {
      "image/png": "[encoded data removed]",
      "text/latex": [
       "$$\\frac{H}{R_{s}} \\left(R_{s} \\sum_{n=1}^{m} - \\frac{C_{n}}{\\operatorname{D_{n}}{\\left (R \\right )}} \\left(\\frac{n \\frac{\\partial}{\\partial R} g{\\left (R,\\phi,t \\right )}}{\\operatorname{K_{n}}{\\left (R \\right )}} \\sin{\\left (n g{\\left (R,\\phi,t \\right )} \\right )} + \\frac{z \\frac{d}{d R} \\operatorname{K_{n}}{\\left (R \\right )}}{\\operatorname{K_{n}}{\\left (R \\right )}} \\cos{\\left (n g{\\left (R,\\phi,t \\right )} \\right )} \\tanh{\\left (\\frac{z \\operatorname{K_{n}}{\\left (R \\right )}}{\\operatorname{B_{n}}{\\left (R \\right )}} \\right )} - \\frac{z \\frac{d}{d R} \\operatorname{B_{n}}{\\left (R \\right )}}{\\operatorname{B_{n}}{\\left (R \\right )}} \\cos{\\left (n g{\\left (R,\\phi,t \\right )} \\right )} \\tanh{\\left (\\frac{z \\operatorname{K_{n}}{\\left (R \\right )}}{\\operatorname{B_{n}}{\\left (R \\right )}} \\right )} - \\frac{\\frac{d}{d R} \\operatorname{B_{n}}{\\left (R \\right )}}{\\operatorname{K_{n}}{\\left (R \\right )}} \\log{\\left (\\frac{1}{\\cosh{\\left (\\frac{z \\operatorname{K_{n}}{\\left (R \\right )}}{\\operatorname{B_{n}}{\\left (R \\right )}} \\right )}} \\right )} \\cos{\\left (n g{\\left (R,\\phi,t \\right )} \\right )} + \\frac{\\frac{d}{d R} \\operatorname{K_{n}}{\\left (R \\right )}}{\\operatorname{K_{n}}^{2}{\\left (R \\right )}} \\cos{\\left (n g{\\left (R,\\phi,t \\right )} \\right )} + \\frac{\\cos{\\left (n g{\\left (R,\\phi,t \\right )} \\right )} \\frac{d}{d R} \\operatorname{D_{n}}{\\left (R \\right )}}{\\operatorname{D_{n}}{\\left (R \\right )} \\operatorname{K_{n}}{\\left (R \\right )}}\\right) \\left(\\frac{1}{\\cosh{\\left (\\frac{z \\operatorname{K_{n}}{\\left (R \\right )}}{\\operatorname{B_{n}}{\\left (R \\right )}} \\right )}}\\right)^{\\operatorname{B_{n}}{\\left (R \\right )}} - \\sum_{n=1}^{m} \\frac{C_{n} \\left(\\frac{1}{\\cosh{\\left (\\frac{z \\operatorname{K_{n}}{\\left (R \\right )}}{\\operatorname{B_{n}}{\\left (R \\right )}} \\right )}}\\right)^{\\operatorname{B_{n}}{\\left (R \\right )}}}{\\operatorname{D_{n}}{\\left (R \\right )} \\operatorname{K_{n}}{\\left (R \\right )}} \\cos{\\left (n g{\\left (R,\\phi,t \\right )} \\right )}\\right) e^{- \\frac{1}{R_{s}} \\left(R - r_{ref}\\right)}$$"
      ],
      "text/plain": [
       "  ⎛       m                                                                   \n",
       "  ⎜    ________                                                               \n",
       "  ⎜    ╲                                                                      \n",
       "  ⎜     ╲            ⎛                                                        \n",
       "  ⎜      ╲           ⎜                                                        \n",
       "  ⎜       ╲          ⎜                    ∂                                   \n",
       "  ⎜        ╲         ⎜n⋅sin(n⋅g(R, φ, t))⋅──(g(R, φ, t))   z⋅cos(n⋅g(R, φ, t))\n",
       "  ⎜         ╲        ⎜                    ∂R                                  \n",
       "  ⎜          ╲  -C_n⋅⎜────────────────────────────────── + ───────────────────\n",
       "H⋅⎜R_s⋅      ╱       ⎜              K_n(R)                                    \n",
       "  ⎜         ╱        ⎝                                                        \n",
       "  ⎜        ╱                                                                  \n",
       "  ⎜       ╱     ──────────────────────────────────────────────────────────────\n",
       "  ⎜      ╱                                                                    \n",
       "  ⎜     ╱                                                                     \n",
       "  ⎜    ╱                                                                      \n",
       "  ⎜    ‾‾‾‾‾‾‾‾                                                               \n",
       "  ⎝     n = 1                                                                 \n",
       "──────────────────────────────────────────────────────────────────────────────\n",
       "                                                                              \n",
       "\n",
       "                                                                              \n",
       "                                                                              \n",
       "                                                                              \n",
       "                                                                              \n",
       "                                                                             l\n",
       "     ⎛z⋅K_n(R)⎞ d                                    ⎛z⋅K_n(R)⎞ d             \n",
       "⋅tanh⎜────────⎟⋅──(K_n(R))   z⋅cos(n⋅g(R, φ, t))⋅tanh⎜────────⎟⋅──(B_n(R))    \n",
       "     ⎝ B_n(R) ⎠ dR                                   ⎝ B_n(R) ⎠ dR            \n",
       "────────────────────────── - ───────────────────────────────────────────── - ─\n",
       " K_n(R)                                          B_n(R)                       \n",
       "                                                                              \n",
       "                                                                              \n",
       "──────────────────────────────────────────────────────────────────────────────\n",
       "                                                                        D_n(R)\n",
       "                                                                              \n",
       "                                                                              \n",
       "                                                                              \n",
       "                                                                              \n",
       "──────────────────────────────────────────────────────────────────────────────\n",
       "                                                                              \n",
       "\n",
       "                                                                              \n",
       "                                                                              \n",
       "                                                                              \n",
       "  ⎛      1       ⎞                   d                                        \n",
       "og⎜──────────────⎟⋅cos(n⋅g(R, φ, t))⋅──(B_n(R))                               \n",
       "  ⎜    ⎛z⋅K_n(R)⎞⎟                   dR                             d         \n",
       "  ⎜cosh⎜────────⎟⎟                                cos(n⋅g(R, φ, t))⋅──(K_n(R))\n",
       "  ⎝    ⎝ B_n(R) ⎠⎠                                                  dR        \n",
       "─────────────────────────────────────────────── + ────────────────────────────\n",
       "                    K_n(R)                                     2              \n",
       "                                                            K_n (R)           \n",
       "                                                                              \n",
       "──────────────────────────────────────────────────────────────────────────────\n",
       "                                                                              \n",
       "                                                                              \n",
       "                                                                              \n",
       "                                                                              \n",
       "                                                                              \n",
       "──────────────────────────────────────────────────────────────────────────────\n",
       "                      R_s                                                     \n",
       "\n",
       "                                                                              \n",
       "                                                                              \n",
       "                                                             m                \n",
       "                               ⎞                           ______             \n",
       "                               ⎟                           ╲                  \n",
       "                     d         ⎟                            ╲                 \n",
       "   cos(n⋅g(R, φ, t))⋅──(D_n(R))⎟                 B_n(R)      ╲        ⎛      1\n",
       "                     dR        ⎟ ⎛      1       ⎞             ╲   C_n⋅⎜───────\n",
       " + ────────────────────────────⎟⋅⎜──────────────⎟              ╲      ⎜    ⎛z⋅\n",
       "          D_n(R)⋅K_n(R)        ⎟ ⎜    ⎛z⋅K_n(R)⎞⎟        -     ╱      ⎜cosh⎜──\n",
       "                               ⎠ ⎜cosh⎜────────⎟⎟             ╱       ⎝    ⎝ B\n",
       "                                 ⎝    ⎝ B_n(R) ⎠⎠            ╱    ────────────\n",
       "────────────────────────────────────────────────────────    ╱                 \n",
       "                                                           ╱                  \n",
       "                                                           ‾‾‾‾‾‾             \n",
       "                                                           n = 1              \n",
       "                                                                              \n",
       "                                                                              \n",
       "──────────────────────────────────────────────────────────────────────────────\n",
       "                                                                              \n",
       "\n",
       "                                ⎞               \n",
       "                                ⎟               \n",
       "                                ⎟               \n",
       "                                ⎟               \n",
       "                                ⎟               \n",
       "        B_n(R)                  ⎟               \n",
       "       ⎞                        ⎟  -(R - r_ref) \n",
       "───────⎟      ⋅cos(n⋅g(R, φ, t))⎟  ─────────────\n",
       "K_n(R)⎞⎟                        ⎟       R_s     \n",
       "──────⎟⎟                        ⎟⋅ℯ             \n",
       "_n(R) ⎠⎠                        ⎟               \n",
       "────────────────────────────────⎟               \n",
       "   D_n(R)⋅K_n(R)                ⎟               \n",
       "                                ⎟               \n",
       "                                ⎟               \n",
       "                                ⎟               \n",
       "                                ⎟               \n",
       "                                ⎠               \n",
       "────────────────────────────────────────────────\n",
       "                                                "
      ]
     },
     "execution_count": 87,
     "metadata": {},
     "output_type": "execute_result"
    }
   ],
   "source": [
    "g, K_n, B_n, D_n = sym.symbols('g, K_n, B_n, D_n', cls=sym.Function)\n",
    "\n",
    "# For now, just note the arguments of the following functions. They will be specified later.\n",
    "g = g(R, phi, t)\n",
    "K_n = K_n(R)\n",
    "B_n = B_n(R)\n",
    "D_n = D_n(R)\n",
    "\n",
    "Phi = -H*sym.exp(-(R-r_ref)/R_s)*sym.summation((C_n/(K_n*D_n))*(sym.cos(n*g))*(sym.S(1) / sym.cosh(K_n*z/B_n))**B_n,\n",
    "                                                (n, 1, m))\n",
    "Rforce = sym.simplify(-sym.diff(Phi, R))\n",
    "Rforce"
   ]
  },
  {
   "cell_type": "code",
   "execution_count": 86,
   "metadata": {},
   "outputs": [
    {
     "data": {
      "image/png": "[encoded data removed]",
      "text/latex": [
       "$$\\frac{H}{R_{s}} \\left(R_{s} \\sum_{n=1}^{m} - \\frac{C_{n}}{\\operatorname{D_{n}}{\\left (R \\right )}} \\left(\\frac{n \\frac{\\partial}{\\partial R} g{\\left (R,\\phi,t \\right )}}{\\operatorname{K_{n}}{\\left (R \\right )}} \\sin{\\left (n g{\\left (R,\\phi,t \\right )} \\right )} + \\frac{z \\frac{d}{d R} \\operatorname{K_{n}}{\\left (R \\right )}}{\\operatorname{K_{n}}{\\left (R \\right )}} \\cos{\\left (n g{\\left (R,\\phi,t \\right )} \\right )} \\tanh{\\left (\\frac{z \\operatorname{K_{n}}{\\left (R \\right )}}{\\operatorname{B_{n}}{\\left (R \\right )}} \\right )} - \\frac{z \\frac{d}{d R} \\operatorname{B_{n}}{\\left (R \\right )}}{\\operatorname{B_{n}}{\\left (R \\right )}} \\cos{\\left (n g{\\left (R,\\phi,t \\right )} \\right )} \\tanh{\\left (\\frac{z \\operatorname{K_{n}}{\\left (R \\right )}}{\\operatorname{B_{n}}{\\left (R \\right )}} \\right )} - \\frac{\\frac{d}{d R} \\operatorname{B_{n}}{\\left (R \\right )}}{\\operatorname{K_{n}}{\\left (R \\right )}} \\log{\\left (\\frac{1}{\\cosh{\\left (\\frac{z \\operatorname{K_{n}}{\\left (R \\right )}}{\\operatorname{B_{n}}{\\left (R \\right )}} \\right )}} \\right )} \\cos{\\left (n g{\\left (R,\\phi,t \\right )} \\right )} + \\frac{\\frac{d}{d R} \\operatorname{K_{n}}{\\left (R \\right )}}{\\operatorname{K_{n}}^{2}{\\left (R \\right )}} \\cos{\\left (n g{\\left (R,\\phi,t \\right )} \\right )} + \\frac{\\cos{\\left (n g{\\left (R,\\phi,t \\right )} \\right )} \\frac{d}{d R} \\operatorname{D_{n}}{\\left (R \\right )}}{\\operatorname{D_{n}}{\\left (R \\right )} \\operatorname{K_{n}}{\\left (R \\right )}}\\right) \\left(\\frac{1}{\\cosh{\\left (\\frac{z \\operatorname{K_{n}}{\\left (R \\right )}}{\\operatorname{B_{n}}{\\left (R \\right )}} \\right )}}\\right)^{\\operatorname{B_{n}}{\\left (R \\right )}} - \\sum_{n=1}^{m} \\frac{C_{n} \\left(\\frac{1}{\\cosh{\\left (\\frac{z \\operatorname{K_{n}}{\\left (R \\right )}}{\\operatorname{B_{n}}{\\left (R \\right )}} \\right )}}\\right)^{\\operatorname{B_{n}}{\\left (R \\right )}}}{\\operatorname{D_{n}}{\\left (R \\right )} \\operatorname{K_{n}}{\\left (R \\right )}} \\cos{\\left (n g{\\left (R,\\phi,t \\right )} \\right )}\\right) e^{- \\frac{1}{R_{s}} \\left(R - r_{ref}\\right)}$$"
      ],
      "text/plain": [
       "  ⎛       m                                                                   \n",
       "  ⎜    ________                                                               \n",
       "  ⎜    ╲                                                                      \n",
       "  ⎜     ╲            ⎛                                                        \n",
       "  ⎜      ╲           ⎜                                                        \n",
       "  ⎜       ╲          ⎜                    ∂                                   \n",
       "  ⎜        ╲         ⎜n⋅sin(n⋅g(R, φ, t))⋅──(g(R, φ, t))   z⋅cos(n⋅g(R, φ, t))\n",
       "  ⎜         ╲        ⎜                    ∂R                                  \n",
       "  ⎜          ╲  -C_n⋅⎜────────────────────────────────── + ───────────────────\n",
       "H⋅⎜R_s⋅      ╱       ⎜              K_n(R)                                    \n",
       "  ⎜         ╱        ⎝                                                        \n",
       "  ⎜        ╱                                                                  \n",
       "  ⎜       ╱     ──────────────────────────────────────────────────────────────\n",
       "  ⎜      ╱                                                                    \n",
       "  ⎜     ╱                                                                     \n",
       "  ⎜    ╱                                                                      \n",
       "  ⎜    ‾‾‾‾‾‾‾‾                                                               \n",
       "  ⎝     n = 1                                                                 \n",
       "──────────────────────────────────────────────────────────────────────────────\n",
       "                                                                              \n",
       "\n",
       "                                                                              \n",
       "                                                                              \n",
       "                                                                              \n",
       "                                                                              \n",
       "                                                                             l\n",
       "     ⎛z⋅K_n(R)⎞ d                                    ⎛z⋅K_n(R)⎞ d             \n",
       "⋅tanh⎜────────⎟⋅──(K_n(R))   z⋅cos(n⋅g(R, φ, t))⋅tanh⎜────────⎟⋅──(B_n(R))    \n",
       "     ⎝ B_n(R) ⎠ dR                                   ⎝ B_n(R) ⎠ dR            \n",
       "────────────────────────── - ───────────────────────────────────────────── - ─\n",
       " K_n(R)                                          B_n(R)                       \n",
       "                                                                              \n",
       "                                                                              \n",
       "──────────────────────────────────────────────────────────────────────────────\n",
       "                                                                        D_n(R)\n",
       "                                                                              \n",
       "                                                                              \n",
       "                                                                              \n",
       "                                                                              \n",
       "──────────────────────────────────────────────────────────────────────────────\n",
       "                                                                              \n",
       "\n",
       "                                                                              \n",
       "                                                                              \n",
       "                                                                              \n",
       "  ⎛      1       ⎞                   d                                        \n",
       "og⎜──────────────⎟⋅cos(n⋅g(R, φ, t))⋅──(B_n(R))                               \n",
       "  ⎜    ⎛z⋅K_n(R)⎞⎟                   dR                             d         \n",
       "  ⎜cosh⎜────────⎟⎟                                cos(n⋅g(R, φ, t))⋅──(K_n(R))\n",
       "  ⎝    ⎝ B_n(R) ⎠⎠                                                  dR        \n",
       "─────────────────────────────────────────────── + ────────────────────────────\n",
       "                    K_n(R)                                     2              \n",
       "                                                            K_n (R)           \n",
       "                                                                              \n",
       "──────────────────────────────────────────────────────────────────────────────\n",
       "                                                                              \n",
       "                                                                              \n",
       "                                                                              \n",
       "                                                                              \n",
       "                                                                              \n",
       "──────────────────────────────────────────────────────────────────────────────\n",
       "                      R_s                                                     \n",
       "\n",
       "                                                                              \n",
       "                                                                              \n",
       "                                                             m                \n",
       "                               ⎞                           ______             \n",
       "                               ⎟                           ╲                  \n",
       "                     d         ⎟                            ╲                 \n",
       "   cos(n⋅g(R, φ, t))⋅──(D_n(R))⎟                 B_n(R)      ╲        ⎛      1\n",
       "                     dR        ⎟ ⎛      1       ⎞             ╲   C_n⋅⎜───────\n",
       " + ────────────────────────────⎟⋅⎜──────────────⎟              ╲      ⎜    ⎛z⋅\n",
       "          D_n(R)⋅K_n(R)        ⎟ ⎜    ⎛z⋅K_n(R)⎞⎟        -     ╱      ⎜cosh⎜──\n",
       "                               ⎠ ⎜cosh⎜────────⎟⎟             ╱       ⎝    ⎝ B\n",
       "                                 ⎝    ⎝ B_n(R) ⎠⎠            ╱    ────────────\n",
       "────────────────────────────────────────────────────────    ╱                 \n",
       "                                                           ╱                  \n",
       "                                                           ‾‾‾‾‾‾             \n",
       "                                                           n = 1              \n",
       "                                                                              \n",
       "                                                                              \n",
       "──────────────────────────────────────────────────────────────────────────────\n",
       "                                                                              \n",
       "\n",
       "                                ⎞               \n",
       "                                ⎟               \n",
       "                                ⎟               \n",
       "                                ⎟               \n",
       "                                ⎟               \n",
       "        B_n(R)                  ⎟               \n",
       "       ⎞                        ⎟  -(R - r_ref) \n",
       "───────⎟      ⋅cos(n⋅g(R, φ, t))⎟  ─────────────\n",
       "K_n(R)⎞⎟                        ⎟       R_s     \n",
       "──────⎟⎟                        ⎟⋅ℯ             \n",
       "_n(R) ⎠⎠                        ⎟               \n",
       "────────────────────────────────⎟               \n",
       "   D_n(R)⋅K_n(R)                ⎟               \n",
       "                                ⎟               \n",
       "                                ⎟               \n",
       "                                ⎟               \n",
       "                                ⎟               \n",
       "                                ⎠               \n",
       "────────────────────────────────────────────────\n",
       "                                                "
      ]
     },
     "execution_count": 86,
     "metadata": {},
     "output_type": "execute_result"
    }
   ],
   "source": [
    "Rforce"
   ]
  },
  {
   "cell_type": "code",
   "execution_count": 52,
   "metadata": {},
   "outputs": [
    {
     "data": {
      "image/png": "[encoded data removed]",
      "text/latex": [
       "$$- \\frac{N n}{R^{2} \\sin{\\left (\\alpha \\right )}}$$"
      ],
      "text/plain": [
       "  -N⋅n   \n",
       "─────────\n",
       " 2       \n",
       "R ⋅sin(α)"
      ]
     },
     "execution_count": 52,
     "metadata": {},
     "output_type": "execute_result"
    }
   ],
   "source": [
    "sym.diff(K, R)"
   ]
  },
  {
   "cell_type": "code",
   "execution_count": 57,
   "metadata": {},
   "outputs": [
    {
     "data": {
      "image/png": "[encoded data removed]",
      "text/latex": [
       "$$H \\left(0.8 H K{\\left (R \\right )} + 1\\right) \\frac{d}{d R} K{\\left (R \\right )}$$"
      ],
      "text/plain": [
       "                   d       \n",
       "H⋅(0.8⋅H⋅K(R) + 1)⋅──(K(R))\n",
       "                   dR      "
      ]
     },
     "execution_count": 57,
     "metadata": {},
     "output_type": "execute_result"
    }
   ],
   "source": [
    "K = sym.var('K', cls=sym.Function)\n",
    "K = K(R)\n",
    "B = K*H * (1+ 0.4*K*H)\n",
    "sym.simplify(sym.diff(B, R))"
   ]
  },
  {
   "cell_type": "code",
   "execution_count": 67,
   "metadata": {
    "collapsed": true
   },
   "outputs": [],
   "source": [
    "D = (sym.S(1)+K*H+sym.S(0.3)*(K*H)**sym.S(2))/(sym.S(1)+sym.S(0.3)*K*H)"
   ]
  },
  {
   "cell_type": "code",
   "execution_count": 68,
   "metadata": {},
   "outputs": [
    {
     "data": {
      "image/png": "[encoded data removed]",
      "text/latex": [
       "$$\\frac{0.3 H^{2} K^{2}{\\left (R \\right )} + H K{\\left (R \\right )} + 1}{0.3 H K{\\left (R \\right )} + 1}$$"
      ],
      "text/plain": [
       "     2  2                \n",
       "0.3⋅H ⋅K (R) + H⋅K(R) + 1\n",
       "─────────────────────────\n",
       "      0.3⋅H⋅K(R) + 1     "
      ]
     },
     "execution_count": 68,
     "metadata": {},
     "output_type": "execute_result"
    }
   ],
   "source": [
    "D"
   ]
  },
  {
   "cell_type": "code",
   "execution_count": 69,
   "metadata": {},
   "outputs": [
    {
     "data": {
      "image/png": "[encoded data removed]",
      "text/latex": [
       "$$\\frac{1.0 H \\left(0.09 H^{2} K^{2}{\\left (R \\right )} + 0.6 H K{\\left (R \\right )} + 0.7\\right) \\frac{d}{d R} K{\\left (R \\right )}}{0.09 H^{2} K^{2}{\\left (R \\right )} + 0.6 H K{\\left (R \\right )} + 1.0}$$"
      ],
      "text/plain": [
       "      ⎛      2  2                      ⎞ d       \n",
       "1.0⋅H⋅⎝0.09⋅H ⋅K (R) + 0.6⋅H⋅K(R) + 0.7⎠⋅──(K(R))\n",
       "                                         dR      \n",
       "─────────────────────────────────────────────────\n",
       "               2  2                              \n",
       "         0.09⋅H ⋅K (R) + 0.6⋅H⋅K(R) + 1.0        "
      ]
     },
     "execution_count": 69,
     "metadata": {},
     "output_type": "execute_result"
    }
   ],
   "source": [
    "sym.simplify(sym.diff(D, R))"
   ]
  },
  {
   "cell_type": "code",
   "execution_count": null,
   "metadata": {
    "collapsed": true
   },
   "outputs": [],
   "source": []
  }
 ],
 "metadata": {
  "anaconda-cloud": {},
  "kernelspec": {
   "display_name": "Python 2",
   "language": "python",
   "name": "python2"
  },
  "language_info": {
   "codemirror_mode": {
    "name": "ipython",
    "version": 2
   },
   "file_extension": ".py",
   "mimetype": "text/x-python",
   "name": "python",
   "nbconvert_exporter": "python",
   "pygments_lexer": "ipython2",
   "version": "2.7.13"
  },
  "latex_envs": {
   "LaTeX_envs_menu_present": true,
   "bibliofile": "biblio.bib",
   "cite_by": "apalike",
   "current_citInitial": 1,
   "eqLabelWithNumbers": true,
   "eqNumInitial": 1,
   "labels_anchors": false,
   "latex_user_defs": false,
   "report_style_numbering": false,
   "user_envs_cfg": false
  }
 },
 "nbformat": 4,
 "nbformat_minor": 1
}
